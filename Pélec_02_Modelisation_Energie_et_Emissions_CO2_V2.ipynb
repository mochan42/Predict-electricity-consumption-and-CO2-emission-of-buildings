{
 "cells": [
  {
   "cell_type": "code",
   "execution_count": 1,
   "id": "e1992af7",
   "metadata": {},
   "outputs": [],
   "source": [
    "import pandas as pd\n",
    "import numpy as np\n",
    "import matplotlib.pyplot as plt\n",
    "import seaborn as sns"
   ]
  },
  {
   "cell_type": "markdown",
   "id": "7912c4bd",
   "metadata": {},
   "source": [
    "On réimporte le jeu de données nettoyé :"
   ]
  },
  {
   "cell_type": "code",
   "execution_count": 2,
   "id": "2d0f19be",
   "metadata": {},
   "outputs": [],
   "source": [
    "df_joined_cleaned = pd.read_csv('P4_jeu_de_donnees_nettoye.csv', low_memory=False)"
   ]
  },
  {
   "cell_type": "markdown",
   "id": "7055d302",
   "metadata": {},
   "source": [
    "## 1 - Modelisation de l'énergie consommée "
   ]
  },
  {
   "cell_type": "markdown",
   "id": "a4477588",
   "metadata": {},
   "source": [
    "### 1.1. Modélisation de l'énergie consommée :  choix du modèle"
   ]
  },
  {
   "cell_type": "code",
   "execution_count": 3,
   "id": "ea4d65d5",
   "metadata": {},
   "outputs": [],
   "source": [
    "SiteEnergyUse_kBtu_mean = df_joined_cleaned['SiteEnergyUse(kBtu)'].mean()"
   ]
  },
  {
   "cell_type": "code",
   "execution_count": 4,
   "id": "85cfe2a1",
   "metadata": {},
   "outputs": [],
   "source": [
    "SiteEnergyUse_kBtu_median = df_joined_cleaned['SiteEnergyUse(kBtu)'].median()"
   ]
  },
  {
   "cell_type": "code",
   "execution_count": 5,
   "id": "26304f8d",
   "metadata": {},
   "outputs": [],
   "source": [
    "import matplotlib.pyplot as plt\n",
    "import seaborn as sns\n",
    "import sklearn\n",
    "from sklearn.preprocessing import OneHotEncoder, StandardScaler\n",
    "from sklearn.impute import SimpleImputer\n",
    "from sklearn.metrics import mean_absolute_error, mean_squared_error, r2_score, mean_absolute_percentage_error\n",
    "from sklearn.model_selection import train_test_split\n",
    "from yellowbrick.regressor import ResidualsPlot, prediction_error"
   ]
  },
  {
   "cell_type": "markdown",
   "id": "a19599d8",
   "metadata": {},
   "source": [
    "On effectue un paramétrage visuel de Scikit-Learn :"
   ]
  },
  {
   "cell_type": "code",
   "execution_count": 6,
   "id": "ad42024e",
   "metadata": {},
   "outputs": [],
   "source": [
    "sklearn.set_config(display=\"diagram\")"
   ]
  },
  {
   "cell_type": "markdown",
   "id": "7aced153",
   "metadata": {},
   "source": [
    "On définit une fonction pour évaluer les performances des modèles :"
   ]
  },
  {
   "cell_type": "code",
   "execution_count": 7,
   "id": "d7817105",
   "metadata": {},
   "outputs": [],
   "source": [
    "def model_performance(y_test, y_pred):\n",
    "\n",
    "    rmse = np.sqrt(mean_squared_error(y_test, y_pred))\n",
    "    rmse_div_mean = rmse / SiteEnergyUse_kBtu_mean\n",
    "    rmse_div_median = rmse / SiteEnergyUse_kBtu_median\n",
    "    r_score = r2_score(y_test, y_pred, multioutput=\"variance_weighted\")\n",
    "    print(\"RMSE: \", rmse)\n",
    "    print(\"RMSE/mean: \", rmse_div_mean)\n",
    "    print(\"RMSE/median: \", rmse_div_median)\n",
    "    print(\"R²: \", r_score.round(5))"
   ]
  },
  {
   "cell_type": "code",
   "execution_count": 8,
   "id": "555a473d",
   "metadata": {
    "scrolled": true
   },
   "outputs": [
    {
     "data": {
      "text/html": [
       "<div>\n",
       "<style scoped>\n",
       "    .dataframe tbody tr th:only-of-type {\n",
       "        vertical-align: middle;\n",
       "    }\n",
       "\n",
       "    .dataframe tbody tr th {\n",
       "        vertical-align: top;\n",
       "    }\n",
       "\n",
       "    .dataframe thead th {\n",
       "        text-align: right;\n",
       "    }\n",
       "</style>\n",
       "<table border=\"1\" class=\"dataframe\">\n",
       "  <thead>\n",
       "    <tr style=\"text-align: right;\">\n",
       "      <th></th>\n",
       "      <th>TaxParcelIdentificationNumber</th>\n",
       "      <th>BuildingType</th>\n",
       "      <th>ComplianceStatus</th>\n",
       "      <th>LargestPropertyUseType</th>\n",
       "      <th>Neighborhood</th>\n",
       "      <th>PrimaryPropertyType</th>\n",
       "      <th>ThirdLargestPropertyUseType</th>\n",
       "      <th>CouncilDistrictCode</th>\n",
       "      <th>ENERGYSTARScore</th>\n",
       "      <th>Electricity(kBtu)</th>\n",
       "      <th>LargestPropertyUseTypeGFA</th>\n",
       "      <th>NaturalGas(kBtu)</th>\n",
       "      <th>NumberofBuildings</th>\n",
       "      <th>NumberofFloors</th>\n",
       "      <th>PropertyGFABuilding(s)</th>\n",
       "      <th>PropertyGFAParking</th>\n",
       "      <th>PropertyGFATotal</th>\n",
       "      <th>SecondLargestPropertyUseTypeGFA</th>\n",
       "      <th>SiteEnergyUse(kBtu)</th>\n",
       "      <th>SourceEUI(kBtu/sf)</th>\n",
       "      <th>SteamUse(kBtu)</th>\n",
       "      <th>ThirdLargestPropertyUseTypeGFA</th>\n",
       "      <th>TotalGHGEmissions</th>\n",
       "      <th>YearBuilt</th>\n",
       "      <th>ZipCode</th>\n",
       "      <th>Building_Age</th>\n",
       "    </tr>\n",
       "  </thead>\n",
       "  <tbody>\n",
       "    <tr>\n",
       "      <th>0</th>\n",
       "      <td>0000000000</td>\n",
       "      <td>Nonresidential COS</td>\n",
       "      <td>Non-Compliant</td>\n",
       "      <td>Other</td>\n",
       "      <td>GREATER DUWAMISH</td>\n",
       "      <td>Other</td>\n",
       "      <td>NaN</td>\n",
       "      <td>2.0</td>\n",
       "      <td>75.0</td>\n",
       "      <td>72371.0</td>\n",
       "      <td>39212.0</td>\n",
       "      <td>0.0</td>\n",
       "      <td>1.0</td>\n",
       "      <td>2.0</td>\n",
       "      <td>39212.0</td>\n",
       "      <td>0.0</td>\n",
       "      <td>39212.0</td>\n",
       "      <td>NaN</td>\n",
       "      <td>7.237040e+04</td>\n",
       "      <td>5.800000</td>\n",
       "      <td>0.0</td>\n",
       "      <td>NaN</td>\n",
       "      <td>0.50</td>\n",
       "      <td>1906.0</td>\n",
       "      <td>98108.0</td>\n",
       "      <td>110.0</td>\n",
       "    </tr>\n",
       "    <tr>\n",
       "      <th>1</th>\n",
       "      <td>0001800033</td>\n",
       "      <td>NonResidential</td>\n",
       "      <td>Compliant</td>\n",
       "      <td>Office</td>\n",
       "      <td>GREATER DUWAMISH</td>\n",
       "      <td>Mixed Use Property</td>\n",
       "      <td>Non-Refrigerated Warehouse</td>\n",
       "      <td>2.0</td>\n",
       "      <td>75.0</td>\n",
       "      <td>1689972.0</td>\n",
       "      <td>23751.0</td>\n",
       "      <td>352799.0</td>\n",
       "      <td>1.0</td>\n",
       "      <td>1.0</td>\n",
       "      <td>44700.0</td>\n",
       "      <td>0.0</td>\n",
       "      <td>44700.0</td>\n",
       "      <td>14024.0</td>\n",
       "      <td>2.042771e+06</td>\n",
       "      <td>118.599998</td>\n",
       "      <td>0.0</td>\n",
       "      <td>10095.0</td>\n",
       "      <td>30.52</td>\n",
       "      <td>1962.0</td>\n",
       "      <td>98108.0</td>\n",
       "      <td>54.0</td>\n",
       "    </tr>\n",
       "    <tr>\n",
       "      <th>2</th>\n",
       "      <td>0001800113</td>\n",
       "      <td>NonResidential</td>\n",
       "      <td>Compliant</td>\n",
       "      <td>Non-Refrigerated Warehouse</td>\n",
       "      <td>GREATER DUWAMISH</td>\n",
       "      <td>Warehouse</td>\n",
       "      <td>NaN</td>\n",
       "      <td>2.0</td>\n",
       "      <td>97.0</td>\n",
       "      <td>371850.0</td>\n",
       "      <td>119200.0</td>\n",
       "      <td>1437252.0</td>\n",
       "      <td>1.0</td>\n",
       "      <td>1.0</td>\n",
       "      <td>128800.0</td>\n",
       "      <td>0.0</td>\n",
       "      <td>128800.0</td>\n",
       "      <td>9600.0</td>\n",
       "      <td>1.809102e+06</td>\n",
       "      <td>20.799999</td>\n",
       "      <td>0.0</td>\n",
       "      <td>NaN</td>\n",
       "      <td>78.92</td>\n",
       "      <td>1977.0</td>\n",
       "      <td>98108.0</td>\n",
       "      <td>39.0</td>\n",
       "    </tr>\n",
       "    <tr>\n",
       "      <th>3</th>\n",
       "      <td>0001800128</td>\n",
       "      <td>NonResidential</td>\n",
       "      <td>Compliant</td>\n",
       "      <td>Non-Refrigerated Warehouse</td>\n",
       "      <td>GREATER DUWAMISH</td>\n",
       "      <td>Warehouse</td>\n",
       "      <td>NaN</td>\n",
       "      <td>2.0</td>\n",
       "      <td>1.0</td>\n",
       "      <td>1618916.0</td>\n",
       "      <td>40000.0</td>\n",
       "      <td>0.0</td>\n",
       "      <td>1.0</td>\n",
       "      <td>1.0</td>\n",
       "      <td>44100.0</td>\n",
       "      <td>0.0</td>\n",
       "      <td>44100.0</td>\n",
       "      <td>NaN</td>\n",
       "      <td>1.618916e+06</td>\n",
       "      <td>127.099998</td>\n",
       "      <td>0.0</td>\n",
       "      <td>NaN</td>\n",
       "      <td>11.29</td>\n",
       "      <td>1976.0</td>\n",
       "      <td>98108.0</td>\n",
       "      <td>40.0</td>\n",
       "    </tr>\n",
       "    <tr>\n",
       "      <th>4</th>\n",
       "      <td>0001800137</td>\n",
       "      <td>Campus</td>\n",
       "      <td>Compliant</td>\n",
       "      <td>College/University</td>\n",
       "      <td>GREATER DUWAMISH</td>\n",
       "      <td>University</td>\n",
       "      <td>NaN</td>\n",
       "      <td>2.0</td>\n",
       "      <td>75.0</td>\n",
       "      <td>4967236.0</td>\n",
       "      <td>149856.0</td>\n",
       "      <td>1368079.0</td>\n",
       "      <td>4.0</td>\n",
       "      <td>2.0</td>\n",
       "      <td>149856.0</td>\n",
       "      <td>0.0</td>\n",
       "      <td>149856.0</td>\n",
       "      <td>NaN</td>\n",
       "      <td>6.335316e+06</td>\n",
       "      <td>113.699997</td>\n",
       "      <td>0.0</td>\n",
       "      <td>NaN</td>\n",
       "      <td>107.29</td>\n",
       "      <td>2007.0</td>\n",
       "      <td>98108.0</td>\n",
       "      <td>9.0</td>\n",
       "    </tr>\n",
       "  </tbody>\n",
       "</table>\n",
       "</div>"
      ],
      "text/plain": [
       "  TaxParcelIdentificationNumber        BuildingType ComplianceStatus  \\\n",
       "0                    0000000000  Nonresidential COS    Non-Compliant   \n",
       "1                    0001800033      NonResidential        Compliant   \n",
       "2                    0001800113      NonResidential        Compliant   \n",
       "3                    0001800128      NonResidential        Compliant   \n",
       "4                    0001800137              Campus        Compliant   \n",
       "\n",
       "       LargestPropertyUseType      Neighborhood PrimaryPropertyType  \\\n",
       "0                       Other  GREATER DUWAMISH               Other   \n",
       "1                      Office  GREATER DUWAMISH  Mixed Use Property   \n",
       "2  Non-Refrigerated Warehouse  GREATER DUWAMISH           Warehouse   \n",
       "3  Non-Refrigerated Warehouse  GREATER DUWAMISH           Warehouse   \n",
       "4          College/University  GREATER DUWAMISH          University   \n",
       "\n",
       "  ThirdLargestPropertyUseType  CouncilDistrictCode  ENERGYSTARScore  \\\n",
       "0                         NaN                  2.0             75.0   \n",
       "1  Non-Refrigerated Warehouse                  2.0             75.0   \n",
       "2                         NaN                  2.0             97.0   \n",
       "3                         NaN                  2.0              1.0   \n",
       "4                         NaN                  2.0             75.0   \n",
       "\n",
       "   Electricity(kBtu)  LargestPropertyUseTypeGFA  NaturalGas(kBtu)  \\\n",
       "0            72371.0                    39212.0               0.0   \n",
       "1          1689972.0                    23751.0          352799.0   \n",
       "2           371850.0                   119200.0         1437252.0   \n",
       "3          1618916.0                    40000.0               0.0   \n",
       "4          4967236.0                   149856.0         1368079.0   \n",
       "\n",
       "   NumberofBuildings  NumberofFloors  PropertyGFABuilding(s)  \\\n",
       "0                1.0             2.0                 39212.0   \n",
       "1                1.0             1.0                 44700.0   \n",
       "2                1.0             1.0                128800.0   \n",
       "3                1.0             1.0                 44100.0   \n",
       "4                4.0             2.0                149856.0   \n",
       "\n",
       "   PropertyGFAParking  PropertyGFATotal  SecondLargestPropertyUseTypeGFA  \\\n",
       "0                 0.0           39212.0                              NaN   \n",
       "1                 0.0           44700.0                          14024.0   \n",
       "2                 0.0          128800.0                           9600.0   \n",
       "3                 0.0           44100.0                              NaN   \n",
       "4                 0.0          149856.0                              NaN   \n",
       "\n",
       "   SiteEnergyUse(kBtu)  SourceEUI(kBtu/sf)  SteamUse(kBtu)  \\\n",
       "0         7.237040e+04            5.800000             0.0   \n",
       "1         2.042771e+06          118.599998             0.0   \n",
       "2         1.809102e+06           20.799999             0.0   \n",
       "3         1.618916e+06          127.099998             0.0   \n",
       "4         6.335316e+06          113.699997             0.0   \n",
       "\n",
       "   ThirdLargestPropertyUseTypeGFA  TotalGHGEmissions  YearBuilt  ZipCode  \\\n",
       "0                             NaN               0.50     1906.0  98108.0   \n",
       "1                         10095.0              30.52     1962.0  98108.0   \n",
       "2                             NaN              78.92     1977.0  98108.0   \n",
       "3                             NaN              11.29     1976.0  98108.0   \n",
       "4                             NaN             107.29     2007.0  98108.0   \n",
       "\n",
       "   Building_Age  \n",
       "0         110.0  \n",
       "1          54.0  \n",
       "2          39.0  \n",
       "3          40.0  \n",
       "4           9.0  "
      ]
     },
     "execution_count": 8,
     "metadata": {},
     "output_type": "execute_result"
    }
   ],
   "source": [
    "pd.options.display.max_columns = df_joined_cleaned.shape[1]\n",
    "df_joined_cleaned.head()"
   ]
  },
  {
   "cell_type": "code",
   "execution_count": 9,
   "id": "9a8e9306",
   "metadata": {
    "scrolled": true
   },
   "outputs": [
    {
     "data": {
      "text/plain": [
       "TaxParcelIdentificationNumber         0\n",
       "BuildingType                          0\n",
       "ComplianceStatus                      0\n",
       "LargestPropertyUseType                0\n",
       "Neighborhood                          0\n",
       "PrimaryPropertyType                   0\n",
       "ThirdLargestPropertyUseType        1401\n",
       "CouncilDistrictCode                   0\n",
       "ENERGYSTARScore                       0\n",
       "Electricity(kBtu)                     0\n",
       "LargestPropertyUseTypeGFA             0\n",
       "NaturalGas(kBtu)                      0\n",
       "NumberofBuildings                     0\n",
       "NumberofFloors                        0\n",
       "PropertyGFABuilding(s)                0\n",
       "PropertyGFAParking                    0\n",
       "PropertyGFATotal                      0\n",
       "SecondLargestPropertyUseTypeGFA     840\n",
       "SiteEnergyUse(kBtu)                   0\n",
       "SourceEUI(kBtu/sf)                    0\n",
       "SteamUse(kBtu)                        0\n",
       "ThirdLargestPropertyUseTypeGFA     1390\n",
       "TotalGHGEmissions                     0\n",
       "YearBuilt                             0\n",
       "ZipCode                               0\n",
       "Building_Age                          0\n",
       "dtype: int64"
      ]
     },
     "execution_count": 9,
     "metadata": {},
     "output_type": "execute_result"
    }
   ],
   "source": [
    "df_joined_cleaned.isna().sum()"
   ]
  },
  {
   "cell_type": "code",
   "execution_count": 10,
   "id": "1316f4e0",
   "metadata": {
    "scrolled": true
   },
   "outputs": [
    {
     "data": {
      "text/html": [
       "<div>\n",
       "<style scoped>\n",
       "    .dataframe tbody tr th:only-of-type {\n",
       "        vertical-align: middle;\n",
       "    }\n",
       "\n",
       "    .dataframe tbody tr th {\n",
       "        vertical-align: top;\n",
       "    }\n",
       "\n",
       "    .dataframe thead th {\n",
       "        text-align: right;\n",
       "    }\n",
       "</style>\n",
       "<table border=\"1\" class=\"dataframe\">\n",
       "  <thead>\n",
       "    <tr style=\"text-align: right;\">\n",
       "      <th></th>\n",
       "      <th>CouncilDistrictCode</th>\n",
       "      <th>ENERGYSTARScore</th>\n",
       "      <th>Electricity(kBtu)</th>\n",
       "      <th>LargestPropertyUseTypeGFA</th>\n",
       "      <th>NaturalGas(kBtu)</th>\n",
       "      <th>NumberofBuildings</th>\n",
       "      <th>NumberofFloors</th>\n",
       "      <th>PropertyGFABuilding(s)</th>\n",
       "      <th>PropertyGFAParking</th>\n",
       "      <th>PropertyGFATotal</th>\n",
       "      <th>SecondLargestPropertyUseTypeGFA</th>\n",
       "      <th>SiteEnergyUse(kBtu)</th>\n",
       "      <th>SourceEUI(kBtu/sf)</th>\n",
       "      <th>SteamUse(kBtu)</th>\n",
       "      <th>ThirdLargestPropertyUseTypeGFA</th>\n",
       "      <th>TotalGHGEmissions</th>\n",
       "      <th>YearBuilt</th>\n",
       "      <th>ZipCode</th>\n",
       "      <th>Building_Age</th>\n",
       "    </tr>\n",
       "  </thead>\n",
       "  <tbody>\n",
       "    <tr>\n",
       "      <th>count</th>\n",
       "      <td>1792.000000</td>\n",
       "      <td>1792.000000</td>\n",
       "      <td>1.792000e+03</td>\n",
       "      <td>1.792000e+03</td>\n",
       "      <td>1.792000e+03</td>\n",
       "      <td>1792.000000</td>\n",
       "      <td>1792.000000</td>\n",
       "      <td>1.792000e+03</td>\n",
       "      <td>1792.000000</td>\n",
       "      <td>1.792000e+03</td>\n",
       "      <td>952.000000</td>\n",
       "      <td>1.792000e+03</td>\n",
       "      <td>1792.000000</td>\n",
       "      <td>1.792000e+03</td>\n",
       "      <td>402.000000</td>\n",
       "      <td>1792.000000</td>\n",
       "      <td>1792.000000</td>\n",
       "      <td>1792.000000</td>\n",
       "      <td>1792.000000</td>\n",
       "    </tr>\n",
       "    <tr>\n",
       "      <th>mean</th>\n",
       "      <td>4.547991</td>\n",
       "      <td>68.835510</td>\n",
       "      <td>6.023789e+06</td>\n",
       "      <td>1.010625e+05</td>\n",
       "      <td>2.005211e+06</td>\n",
       "      <td>1.085938</td>\n",
       "      <td>4.704739</td>\n",
       "      <td>1.079150e+05</td>\n",
       "      <td>15357.033436</td>\n",
       "      <td>1.232720e+05</td>\n",
       "      <td>39404.477413</td>\n",
       "      <td>8.500698e+06</td>\n",
       "      <td>175.815722</td>\n",
       "      <td>4.502914e+05</td>\n",
       "      <td>14710.814178</td>\n",
       "      <td>183.269387</td>\n",
       "      <td>1960.770703</td>\n",
       "      <td>59584.460119</td>\n",
       "      <td>54.743713</td>\n",
       "    </tr>\n",
       "    <tr>\n",
       "      <th>std</th>\n",
       "      <td>2.209488</td>\n",
       "      <td>22.965583</td>\n",
       "      <td>1.490536e+07</td>\n",
       "      <td>1.696224e+05</td>\n",
       "      <td>9.192174e+06</td>\n",
       "      <td>0.912837</td>\n",
       "      <td>7.501207</td>\n",
       "      <td>1.814334e+05</td>\n",
       "      <td>45469.346829</td>\n",
       "      <td>2.074285e+05</td>\n",
       "      <td>70293.119589</td>\n",
       "      <td>2.193181e+07</td>\n",
       "      <td>190.702739</td>\n",
       "      <td>4.330423e+06</td>\n",
       "      <td>34852.380354</td>\n",
       "      <td>657.355060</td>\n",
       "      <td>32.770541</td>\n",
       "      <td>21189.665723</td>\n",
       "      <td>32.762951</td>\n",
       "    </tr>\n",
       "    <tr>\n",
       "      <th>min</th>\n",
       "      <td>1.000000</td>\n",
       "      <td>1.000000</td>\n",
       "      <td>0.000000e+00</td>\n",
       "      <td>6.455000e+03</td>\n",
       "      <td>0.000000e+00</td>\n",
       "      <td>0.000000</td>\n",
       "      <td>0.000000</td>\n",
       "      <td>1.092500e+04</td>\n",
       "      <td>0.000000</td>\n",
       "      <td>2.000000e+04</td>\n",
       "      <td>0.000000</td>\n",
       "      <td>0.000000e+00</td>\n",
       "      <td>0.000000</td>\n",
       "      <td>0.000000e+00</td>\n",
       "      <td>0.000000</td>\n",
       "      <td>0.000000</td>\n",
       "      <td>1900.000000</td>\n",
       "      <td>17919.000000</td>\n",
       "      <td>1.000000</td>\n",
       "    </tr>\n",
       "    <tr>\n",
       "      <th>25%</th>\n",
       "      <td>2.000000</td>\n",
       "      <td>61.000000</td>\n",
       "      <td>7.544721e+05</td>\n",
       "      <td>2.587175e+04</td>\n",
       "      <td>0.000000e+00</td>\n",
       "      <td>1.000000</td>\n",
       "      <td>1.000000</td>\n",
       "      <td>2.905925e+04</td>\n",
       "      <td>0.000000</td>\n",
       "      <td>3.022300e+04</td>\n",
       "      <td>6149.750000</td>\n",
       "      <td>1.260939e+06</td>\n",
       "      <td>77.575001</td>\n",
       "      <td>0.000000e+00</td>\n",
       "      <td>2827.750000</td>\n",
       "      <td>20.465000</td>\n",
       "      <td>1929.000000</td>\n",
       "      <td>58240.000000</td>\n",
       "      <td>27.500000</td>\n",
       "    </tr>\n",
       "    <tr>\n",
       "      <th>50%</th>\n",
       "      <td>5.000000</td>\n",
       "      <td>75.000000</td>\n",
       "      <td>1.707536e+06</td>\n",
       "      <td>4.516450e+04</td>\n",
       "      <td>5.125765e+05</td>\n",
       "      <td>1.000000</td>\n",
       "      <td>3.000000</td>\n",
       "      <td>4.925050e+04</td>\n",
       "      <td>0.000000</td>\n",
       "      <td>5.125800e+04</td>\n",
       "      <td>13124.000000</td>\n",
       "      <td>2.612478e+06</td>\n",
       "      <td>132.150002</td>\n",
       "      <td>0.000000e+00</td>\n",
       "      <td>6129.000000</td>\n",
       "      <td>53.847500</td>\n",
       "      <td>1964.600000</td>\n",
       "      <td>58249.500000</td>\n",
       "      <td>51.000000</td>\n",
       "    </tr>\n",
       "    <tr>\n",
       "      <th>75%</th>\n",
       "      <td>7.000000</td>\n",
       "      <td>82.000000</td>\n",
       "      <td>5.271904e+06</td>\n",
       "      <td>9.754988e+04</td>\n",
       "      <td>1.533846e+06</td>\n",
       "      <td>1.000000</td>\n",
       "      <td>5.000000</td>\n",
       "      <td>1.021082e+05</td>\n",
       "      <td>0.000000</td>\n",
       "      <td>1.157955e+05</td>\n",
       "      <td>36131.250000</td>\n",
       "      <td>7.456678e+06</td>\n",
       "      <td>200.862501</td>\n",
       "      <td>0.000000e+00</td>\n",
       "      <td>13364.250000</td>\n",
       "      <td>154.108750</td>\n",
       "      <td>1988.000000</td>\n",
       "      <td>58857.500000</td>\n",
       "      <td>86.500000</td>\n",
       "    </tr>\n",
       "    <tr>\n",
       "      <th>max</th>\n",
       "      <td>7.000000</td>\n",
       "      <td>100.000000</td>\n",
       "      <td>2.847263e+08</td>\n",
       "      <td>1.719643e+06</td>\n",
       "      <td>2.979090e+08</td>\n",
       "      <td>20.000000</td>\n",
       "      <td>99.000000</td>\n",
       "      <td>2.200000e+06</td>\n",
       "      <td>512608.000000</td>\n",
       "      <td>2.200000e+06</td>\n",
       "      <td>686750.000000</td>\n",
       "      <td>4.483853e+08</td>\n",
       "      <td>2620.000000</td>\n",
       "      <td>1.314066e+08</td>\n",
       "      <td>459748.000000</td>\n",
       "      <td>16870.980000</td>\n",
       "      <td>2015.000000</td>\n",
       "      <td>98199.000000</td>\n",
       "      <td>116.000000</td>\n",
       "    </tr>\n",
       "  </tbody>\n",
       "</table>\n",
       "</div>"
      ],
      "text/plain": [
       "       CouncilDistrictCode  ENERGYSTARScore  Electricity(kBtu)  \\\n",
       "count          1792.000000      1792.000000       1.792000e+03   \n",
       "mean              4.547991        68.835510       6.023789e+06   \n",
       "std               2.209488        22.965583       1.490536e+07   \n",
       "min               1.000000         1.000000       0.000000e+00   \n",
       "25%               2.000000        61.000000       7.544721e+05   \n",
       "50%               5.000000        75.000000       1.707536e+06   \n",
       "75%               7.000000        82.000000       5.271904e+06   \n",
       "max               7.000000       100.000000       2.847263e+08   \n",
       "\n",
       "       LargestPropertyUseTypeGFA  NaturalGas(kBtu)  NumberofBuildings  \\\n",
       "count               1.792000e+03      1.792000e+03        1792.000000   \n",
       "mean                1.010625e+05      2.005211e+06           1.085938   \n",
       "std                 1.696224e+05      9.192174e+06           0.912837   \n",
       "min                 6.455000e+03      0.000000e+00           0.000000   \n",
       "25%                 2.587175e+04      0.000000e+00           1.000000   \n",
       "50%                 4.516450e+04      5.125765e+05           1.000000   \n",
       "75%                 9.754988e+04      1.533846e+06           1.000000   \n",
       "max                 1.719643e+06      2.979090e+08          20.000000   \n",
       "\n",
       "       NumberofFloors  PropertyGFABuilding(s)  PropertyGFAParking  \\\n",
       "count     1792.000000            1.792000e+03         1792.000000   \n",
       "mean         4.704739            1.079150e+05        15357.033436   \n",
       "std          7.501207            1.814334e+05        45469.346829   \n",
       "min          0.000000            1.092500e+04            0.000000   \n",
       "25%          1.000000            2.905925e+04            0.000000   \n",
       "50%          3.000000            4.925050e+04            0.000000   \n",
       "75%          5.000000            1.021082e+05            0.000000   \n",
       "max         99.000000            2.200000e+06       512608.000000   \n",
       "\n",
       "       PropertyGFATotal  SecondLargestPropertyUseTypeGFA  SiteEnergyUse(kBtu)  \\\n",
       "count      1.792000e+03                       952.000000         1.792000e+03   \n",
       "mean       1.232720e+05                     39404.477413         8.500698e+06   \n",
       "std        2.074285e+05                     70293.119589         2.193181e+07   \n",
       "min        2.000000e+04                         0.000000         0.000000e+00   \n",
       "25%        3.022300e+04                      6149.750000         1.260939e+06   \n",
       "50%        5.125800e+04                     13124.000000         2.612478e+06   \n",
       "75%        1.157955e+05                     36131.250000         7.456678e+06   \n",
       "max        2.200000e+06                    686750.000000         4.483853e+08   \n",
       "\n",
       "       SourceEUI(kBtu/sf)  SteamUse(kBtu)  ThirdLargestPropertyUseTypeGFA  \\\n",
       "count         1792.000000    1.792000e+03                      402.000000   \n",
       "mean           175.815722    4.502914e+05                    14710.814178   \n",
       "std            190.702739    4.330423e+06                    34852.380354   \n",
       "min              0.000000    0.000000e+00                        0.000000   \n",
       "25%             77.575001    0.000000e+00                     2827.750000   \n",
       "50%            132.150002    0.000000e+00                     6129.000000   \n",
       "75%            200.862501    0.000000e+00                    13364.250000   \n",
       "max           2620.000000    1.314066e+08                   459748.000000   \n",
       "\n",
       "       TotalGHGEmissions    YearBuilt       ZipCode  Building_Age  \n",
       "count        1792.000000  1792.000000   1792.000000   1792.000000  \n",
       "mean          183.269387  1960.770703  59584.460119     54.743713  \n",
       "std           657.355060    32.770541  21189.665723     32.762951  \n",
       "min             0.000000  1900.000000  17919.000000      1.000000  \n",
       "25%            20.465000  1929.000000  58240.000000     27.500000  \n",
       "50%            53.847500  1964.600000  58249.500000     51.000000  \n",
       "75%           154.108750  1988.000000  58857.500000     86.500000  \n",
       "max         16870.980000  2015.000000  98199.000000    116.000000  "
      ]
     },
     "execution_count": 10,
     "metadata": {},
     "output_type": "execute_result"
    }
   ],
   "source": [
    "pd.options.display.max_columns = df_joined_cleaned.shape[1]\n",
    "df_joined_cleaned.describe()"
   ]
  },
  {
   "cell_type": "markdown",
   "id": "445b0d50",
   "metadata": {},
   "source": [
    "On créé le jeu d'entraînement (train_set) et le jeu de test (test_set). <br>\n",
    "On effectue une stratification des données basée sur la variable \"PrimaryPropertyType\""
   ]
  },
  {
   "cell_type": "code",
   "execution_count": 11,
   "id": "13a66d7b",
   "metadata": {},
   "outputs": [],
   "source": [
    "# Création d'un jeu d'entrainement (train set) et d'un jeu de test (test set)\n",
    "# Stratification sur la variable \"type de propriété\"\n",
    "train_set, test_set = train_test_split(df_joined_cleaned, test_size=0.3, random_state=42, stratify=df_joined_cleaned[\"PrimaryPropertyType\"])\n",
    "\n",
    "y_train = train_set[[\"SiteEnergyUse(kBtu)\"]]\n",
    "y_test = test_set[[\"SiteEnergyUse(kBtu)\"]]\n",
    "X_train = train_set.drop([\"SiteEnergyUse(kBtu)\", \"TotalGHGEmissions\"], axis=1)\n",
    "X_test = test_set.drop([\"SiteEnergyUse(kBtu)\", \"TotalGHGEmissions\"], axis=1)"
   ]
  },
  {
   "cell_type": "code",
   "execution_count": 12,
   "id": "505880e1",
   "metadata": {},
   "outputs": [
    {
     "data": {
      "text/plain": [
       "(1792, 26)"
      ]
     },
     "execution_count": 12,
     "metadata": {},
     "output_type": "execute_result"
    }
   ],
   "source": [
    "df_joined_cleaned.shape"
   ]
  },
  {
   "cell_type": "code",
   "execution_count": 13,
   "id": "a8dcdae5",
   "metadata": {},
   "outputs": [
    {
     "data": {
      "text/plain": [
       "(1254, 24)"
      ]
     },
     "execution_count": 13,
     "metadata": {},
     "output_type": "execute_result"
    }
   ],
   "source": [
    "X_train.shape"
   ]
  },
  {
   "cell_type": "code",
   "execution_count": 14,
   "id": "5239f6da",
   "metadata": {},
   "outputs": [
    {
     "data": {
      "text/plain": [
       "(538, 24)"
      ]
     },
     "execution_count": 14,
     "metadata": {},
     "output_type": "execute_result"
    }
   ],
   "source": [
    "X_test.shape"
   ]
  },
  {
   "cell_type": "code",
   "execution_count": 15,
   "id": "46e3620f",
   "metadata": {},
   "outputs": [
    {
     "data": {
      "text/plain": [
       "(1254, 1)"
      ]
     },
     "execution_count": 15,
     "metadata": {},
     "output_type": "execute_result"
    }
   ],
   "source": [
    "y_train.shape"
   ]
  },
  {
   "cell_type": "code",
   "execution_count": 16,
   "id": "9e5b89cc",
   "metadata": {
    "scrolled": false
   },
   "outputs": [
    {
     "data": {
      "text/plain": [
       "(538, 1)"
      ]
     },
     "execution_count": 16,
     "metadata": {},
     "output_type": "execute_result"
    }
   ],
   "source": [
    "y_test.shape"
   ]
  },
  {
   "cell_type": "markdown",
   "id": "97a33964",
   "metadata": {},
   "source": [
    "On définit les variables qualitatives et quantitatives :"
   ]
  },
  {
   "cell_type": "code",
   "execution_count": 17,
   "id": "dd5a6c8c",
   "metadata": {},
   "outputs": [],
   "source": [
    "quali_var = [\"PrimaryPropertyType\", \"LargestPropertyUseType\"]\n",
    "quanti_var = [\"LargestPropertyUseTypeGFA\",\n",
    " \"NumberofBuildings\", \"NumberofFloors\",\n",
    "\"PropertyGFATotal\", \"YearBuilt\", \"SecondLargestPropertyUseTypeGFA\", \"ThirdLargestPropertyUseTypeGFA\"]"
   ]
  },
  {
   "cell_type": "code",
   "execution_count": 18,
   "id": "589380d7",
   "metadata": {
    "scrolled": true
   },
   "outputs": [
    {
     "data": {
      "text/plain": [
       "['TaxParcelIdentificationNumber',\n",
       " 'BuildingType',\n",
       " 'ComplianceStatus',\n",
       " 'LargestPropertyUseType',\n",
       " 'Neighborhood',\n",
       " 'PrimaryPropertyType',\n",
       " 'ThirdLargestPropertyUseType',\n",
       " 'CouncilDistrictCode',\n",
       " 'ENERGYSTARScore',\n",
       " 'Electricity(kBtu)',\n",
       " 'LargestPropertyUseTypeGFA',\n",
       " 'NaturalGas(kBtu)',\n",
       " 'NumberofBuildings',\n",
       " 'NumberofFloors',\n",
       " 'PropertyGFABuilding(s)',\n",
       " 'PropertyGFAParking',\n",
       " 'PropertyGFATotal',\n",
       " 'SecondLargestPropertyUseTypeGFA',\n",
       " 'SiteEnergyUse(kBtu)',\n",
       " 'SourceEUI(kBtu/sf)',\n",
       " 'SteamUse(kBtu)',\n",
       " 'ThirdLargestPropertyUseTypeGFA',\n",
       " 'TotalGHGEmissions',\n",
       " 'YearBuilt',\n",
       " 'ZipCode',\n",
       " 'Building_Age']"
      ]
     },
     "execution_count": 18,
     "metadata": {},
     "output_type": "execute_result"
    }
   ],
   "source": [
    "df_joined_cleaned.columns.tolist()"
   ]
  },
  {
   "cell_type": "markdown",
   "id": "755c4c1e",
   "metadata": {},
   "source": [
    "On créé le pipeline de transformation"
   ]
  },
  {
   "cell_type": "code",
   "execution_count": 19,
   "id": "ac131a8f",
   "metadata": {},
   "outputs": [],
   "source": [
    "from sklearn.compose import ColumnTransformer\n",
    "from sklearn.pipeline import Pipeline\n",
    "\n",
    "quali_pipe = Pipeline([\n",
    "    ('imputer', SimpleImputer(strategy='most_frequent', fill_value='missing')),\n",
    "    ('encoder', OneHotEncoder(handle_unknown='ignore', sparse=False))\n",
    "])\n",
    "\n",
    "quanti_pipe = Pipeline([\n",
    "    ('imputer', SimpleImputer(strategy=\"median\", fill_value=\"missing\")),\n",
    "    ('scaler', StandardScaler())\n",
    "])\n",
    "\n",
    "preprocessor = ColumnTransformer(\n",
    "    transformers=[\n",
    "    ('qualitative', quali_pipe, quali_var),\n",
    "    ('quantitative', quanti_pipe, quanti_var)\n",
    "])"
   ]
  },
  {
   "cell_type": "markdown",
   "id": "53cc2af9",
   "metadata": {},
   "source": [
    "On transforme les variables :"
   ]
  },
  {
   "cell_type": "code",
   "execution_count": 20,
   "id": "c9092709",
   "metadata": {},
   "outputs": [],
   "source": [
    "X_train = preprocessor.fit_transform(X_train)"
   ]
  },
  {
   "cell_type": "code",
   "execution_count": 21,
   "id": "1067a015",
   "metadata": {
    "scrolled": true
   },
   "outputs": [
    {
     "data": {
      "text/html": [
       "<style>div.sk-top-container {color: black;background-color: white;}div.sk-toggleable {background-color: white;}label.sk-toggleable__label {cursor: pointer;display: block;width: 100%;margin-bottom: 0;padding: 0.2em 0.3em;box-sizing: border-box;text-align: center;}div.sk-toggleable__content {max-height: 0;max-width: 0;overflow: hidden;text-align: left;background-color: #f0f8ff;}div.sk-toggleable__content pre {margin: 0.2em;color: black;border-radius: 0.25em;background-color: #f0f8ff;}input.sk-toggleable__control:checked~div.sk-toggleable__content {max-height: 200px;max-width: 100%;overflow: auto;}div.sk-estimator input.sk-toggleable__control:checked~label.sk-toggleable__label {background-color: #d4ebff;}div.sk-label input.sk-toggleable__control:checked~label.sk-toggleable__label {background-color: #d4ebff;}input.sk-hidden--visually {border: 0;clip: rect(1px 1px 1px 1px);clip: rect(1px, 1px, 1px, 1px);height: 1px;margin: -1px;overflow: hidden;padding: 0;position: absolute;width: 1px;}div.sk-estimator {font-family: monospace;background-color: #f0f8ff;margin: 0.25em 0.25em;border: 1px dotted black;border-radius: 0.25em;box-sizing: border-box;}div.sk-estimator:hover {background-color: #d4ebff;}div.sk-parallel-item::after {content: \"\";width: 100%;border-bottom: 1px solid gray;flex-grow: 1;}div.sk-label:hover label.sk-toggleable__label {background-color: #d4ebff;}div.sk-serial::before {content: \"\";position: absolute;border-left: 1px solid gray;box-sizing: border-box;top: 2em;bottom: 0;left: 50%;}div.sk-serial {display: flex;flex-direction: column;align-items: center;background-color: white;}div.sk-item {z-index: 1;}div.sk-parallel {display: flex;align-items: stretch;justify-content: center;background-color: white;}div.sk-parallel-item {display: flex;flex-direction: column;position: relative;background-color: white;}div.sk-parallel-item:first-child::after {align-self: flex-end;width: 50%;}div.sk-parallel-item:last-child::after {align-self: flex-start;width: 50%;}div.sk-parallel-item:only-child::after {width: 0;}div.sk-dashed-wrapped {border: 1px dashed gray;margin: 0.2em;box-sizing: border-box;padding-bottom: 0.1em;background-color: white;position: relative;}div.sk-label label {font-family: monospace;font-weight: bold;background-color: white;display: inline-block;line-height: 1.2em;}div.sk-label-container {position: relative;z-index: 2;text-align: center;}div.sk-container {display: inline-block;position: relative;}</style><div class=\"sk-top-container\"><div class=\"sk-container\"><div class=\"sk-item\"><div class=\"sk-estimator sk-toggleable\"><input class=\"sk-toggleable__control sk-hidden--visually\" id=\"10509eac-faa5-4147-8f6f-90c1e9d55444\" type=\"checkbox\" checked><label class=\"sk-toggleable__label\" for=\"10509eac-faa5-4147-8f6f-90c1e9d55444\">DummyRegressor</label><div class=\"sk-toggleable__content\"><pre>DummyRegressor(strategy='median')</pre></div></div></div></div></div>"
      ],
      "text/plain": [
       "DummyRegressor(strategy='median')"
      ]
     },
     "execution_count": 21,
     "metadata": {},
     "output_type": "execute_result"
    }
   ],
   "source": [
    "from sklearn.dummy import DummyRegressor\n",
    "\n",
    "dummy_reg = DummyRegressor(strategy=\"median\")\n",
    "dummy_reg.fit(X_train, y_train)"
   ]
  },
  {
   "cell_type": "markdown",
   "id": "153db6af",
   "metadata": {},
   "source": [
    "On effectue une prédiction avec le dummy regressor et on évalue le modèle:"
   ]
  },
  {
   "cell_type": "code",
   "execution_count": 22,
   "id": "9172a278",
   "metadata": {
    "scrolled": true
   },
   "outputs": [
    {
     "name": "stdout",
     "output_type": "stream",
     "text": [
      "RMSE:  20036835.444967512\n",
      "RMSE/mean:  2.3570811201340662\n",
      "RMSE/median:  7.669667955269764\n",
      "R²:  -0.08648\n"
     ]
    }
   ],
   "source": [
    "X_test = preprocessor.transform(X_test)\n",
    "y_pred = dummy_reg.predict(X_test)\n",
    "model_performance(np.array(y_test), y_pred)"
   ]
  },
  {
   "cell_type": "markdown",
   "id": "99d25d35",
   "metadata": {},
   "source": [
    "On initie les diférents modèles :"
   ]
  },
  {
   "cell_type": "code",
   "execution_count": 23,
   "id": "25d6d48c",
   "metadata": {},
   "outputs": [],
   "source": [
    "from sklearn.linear_model import Ridge, Lasso, LinearRegression\n",
    "from sklearn.svm import SVR\n",
    "from sklearn.ensemble import RandomForestRegressor, GradientBoostingRegressor\n",
    "import xgboost as xgb\n",
    "\n",
    "dummy_reg = DummyRegressor(strategy=\"median\")\n",
    "lin_reg = LinearRegression()\n",
    "ridge = Ridge(random_state=42)\n",
    "lasso = Lasso(random_state=42)\n",
    "svm_reg = SVR()\n",
    "rdmforest = RandomForestRegressor(random_state=42, n_estimators=500)\n",
    "xgboost = xgb.XGBRegressor(random_state=42)"
   ]
  },
  {
   "cell_type": "markdown",
   "id": "47fc75f1",
   "metadata": {},
   "source": [
    "On effectue les entraînements pour chaque modèle sans optimiser les hyperparamètres."
   ]
  },
  {
   "cell_type": "code",
   "execution_count": 24,
   "id": "598d32fe",
   "metadata": {
    "scrolled": true
   },
   "outputs": [
    {
     "name": "stderr",
     "output_type": "stream",
     "text": [
      "/Users/moninechan/opt/anaconda3/lib/python3.8/site-packages/sklearn/linear_model/_coordinate_descent.py:530: ConvergenceWarning: Objective did not converge. You might want to increase the number of iterations. Duality gap: 3.7130972659891976e+16, tolerance: 66262594954545.695\n",
      "  model = cd_fast.enet_coordinate_descent(\n"
     ]
    },
    {
     "data": {
      "text/html": [
       "<div>\n",
       "<style scoped>\n",
       "    .dataframe tbody tr th:only-of-type {\n",
       "        vertical-align: middle;\n",
       "    }\n",
       "\n",
       "    .dataframe tbody tr th {\n",
       "        vertical-align: top;\n",
       "    }\n",
       "\n",
       "    .dataframe thead th {\n",
       "        text-align: right;\n",
       "    }\n",
       "</style>\n",
       "<table border=\"1\" class=\"dataframe\">\n",
       "  <thead>\n",
       "    <tr style=\"text-align: right;\">\n",
       "      <th></th>\n",
       "      <th>Dummy Regressor</th>\n",
       "      <th>Linear Regression</th>\n",
       "      <th>Ridge</th>\n",
       "      <th>Lasso</th>\n",
       "      <th>SVM</th>\n",
       "      <th>Random Forest</th>\n",
       "      <th>XGBoost</th>\n",
       "      <th>GradientBoostingRegressor</th>\n",
       "    </tr>\n",
       "  </thead>\n",
       "  <tbody>\n",
       "    <tr>\n",
       "      <th>RMSE</th>\n",
       "      <td>2.003684e+07</td>\n",
       "      <td>1.003649e+19</td>\n",
       "      <td>1.343012e+07</td>\n",
       "      <td>1.310292e+07</td>\n",
       "      <td>2.003681e+07</td>\n",
       "      <td>1.638028e+07</td>\n",
       "      <td>2.184854e+07</td>\n",
       "      <td>1.674608e+07</td>\n",
       "    </tr>\n",
       "    <tr>\n",
       "      <th>RMSE/mean</th>\n",
       "      <td>2.357081e+00</td>\n",
       "      <td>1.180667e+12</td>\n",
       "      <td>1.579884e+00</td>\n",
       "      <td>1.541393e+00</td>\n",
       "      <td>2.357078e+00</td>\n",
       "      <td>1.926933e+00</td>\n",
       "      <td>2.570205e+00</td>\n",
       "      <td>1.969965e+00</td>\n",
       "    </tr>\n",
       "    <tr>\n",
       "      <th>RMSE/median</th>\n",
       "      <td>7.669668e+00</td>\n",
       "      <td>3.841753e+12</td>\n",
       "      <td>5.140758e+00</td>\n",
       "      <td>5.015514e+00</td>\n",
       "      <td>7.669658e+00</td>\n",
       "      <td>6.270016e+00</td>\n",
       "      <td>8.363150e+00</td>\n",
       "      <td>6.410038e+00</td>\n",
       "    </tr>\n",
       "    <tr>\n",
       "      <th>R²</th>\n",
       "      <td>-8.600000e-02</td>\n",
       "      <td>-2.726022e+23</td>\n",
       "      <td>5.120000e-01</td>\n",
       "      <td>5.350000e-01</td>\n",
       "      <td>-8.600000e-02</td>\n",
       "      <td>2.740000e-01</td>\n",
       "      <td>-2.920000e-01</td>\n",
       "      <td>2.410000e-01</td>\n",
       "    </tr>\n",
       "  </tbody>\n",
       "</table>\n",
       "</div>"
      ],
      "text/plain": [
       "             Dummy Regressor  Linear Regression         Ridge         Lasso  \\\n",
       "RMSE            2.003684e+07       1.003649e+19  1.343012e+07  1.310292e+07   \n",
       "RMSE/mean       2.357081e+00       1.180667e+12  1.579884e+00  1.541393e+00   \n",
       "RMSE/median     7.669668e+00       3.841753e+12  5.140758e+00  5.015514e+00   \n",
       "R²             -8.600000e-02      -2.726022e+23  5.120000e-01  5.350000e-01   \n",
       "\n",
       "                      SVM  Random Forest       XGBoost  \\\n",
       "RMSE         2.003681e+07   1.638028e+07  2.184854e+07   \n",
       "RMSE/mean    2.357078e+00   1.926933e+00  2.570205e+00   \n",
       "RMSE/median  7.669658e+00   6.270016e+00  8.363150e+00   \n",
       "R²          -8.600000e-02   2.740000e-01 -2.920000e-01   \n",
       "\n",
       "             GradientBoostingRegressor  \n",
       "RMSE                      1.674608e+07  \n",
       "RMSE/mean                 1.969965e+00  \n",
       "RMSE/median               6.410038e+00  \n",
       "R²                        2.410000e-01  "
      ]
     },
     "execution_count": 24,
     "metadata": {},
     "output_type": "execute_result"
    }
   ],
   "source": [
    "model = [dummy_reg, lin_reg, ridge, lasso, svm_reg, rdmforest, xgboost, GradientBoostingRegressor()]\n",
    "dict_model = {}\n",
    "\n",
    "for model in model:\n",
    "    model.fit(X_train, y_train.values.ravel())\n",
    "    y_pred = model.predict(X_test)\n",
    "    rmse = np.sqrt(mean_squared_error(y_test, y_pred))\n",
    "    rmse_div_mean = rmse / SiteEnergyUse_kBtu_mean\n",
    "    rmse_div_median = rmse / SiteEnergyUse_kBtu_median\n",
    "    r_score = r2_score(y_test, y_pred, multioutput=\"variance_weighted\").round(3)\n",
    "    dict_model[model] = (rmse.round(3), rmse_div_mean, rmse_div_median, r_score)\n",
    "\n",
    "eval_model = pd.DataFrame(dict_model, index=[\"RMSE\", \"RMSE/mean\", \"RMSE/median\",  \"R²\"])\n",
    "eval_model.columns = [\"Dummy Regressor\", \"Linear Regression\", \"Ridge\", \"Lasso\", \"SVM\", \"Random Forest\", \"XGBoost\", \"GradientBoostingRegressor\"]\n",
    "\n",
    "eval_model"
   ]
  },
  {
   "cell_type": "markdown",
   "id": "6da39bc0",
   "metadata": {},
   "source": [
    "Lasso donne le meilleur résultat."
   ]
  },
  {
   "cell_type": "markdown",
   "id": "02bbea48",
   "metadata": {},
   "source": [
    "### 1.2. Modélisation de l'énergie consommée :  choix des hyperparamètres"
   ]
  },
  {
   "cell_type": "code",
   "execution_count": 25,
   "id": "5042974a",
   "metadata": {},
   "outputs": [],
   "source": [
    "from sklearn import datasets\n",
    "from sklearn.linear_model import Lasso\n",
    "from sklearn.model_selection import GridSearchCV\n",
    "import numpy as np"
   ]
  },
  {
   "cell_type": "markdown",
   "id": "f9b2b2c9",
   "metadata": {},
   "source": [
    "On optimise l'hyperparamètre alpha (ou lambda) du Lasso en effectuant une Grid Search:"
   ]
  },
  {
   "cell_type": "code",
   "execution_count": 26,
   "id": "d507b244",
   "metadata": {},
   "outputs": [],
   "source": [
    "alphas_lasso = np.array([20, 10, 5, 0.5, 0.05, 0.005, 0.0005, 1, 0.1, 0.01, 0.001, 0.0001, 0])"
   ]
  },
  {
   "cell_type": "code",
   "execution_count": 27,
   "id": "bb1054f5",
   "metadata": {},
   "outputs": [],
   "source": [
    "grid = GridSearchCV(estimator=lasso, param_grid=dict(alpha=alphas_lasso), scoring=\"neg_mean_squared_error\")"
   ]
  },
  {
   "cell_type": "code",
   "execution_count": 28,
   "id": "04f89523",
   "metadata": {},
   "outputs": [
    {
     "name": "stderr",
     "output_type": "stream",
     "text": [
      "/Users/moninechan/opt/anaconda3/lib/python3.8/site-packages/sklearn/linear_model/_coordinate_descent.py:530: ConvergenceWarning: Objective did not converge. You might want to increase the number of iterations. Duality gap: 2.6550085118499216e+16, tolerance: 32125516589410.727\n",
      "  model = cd_fast.enet_coordinate_descent(\n",
      "/Users/moninechan/opt/anaconda3/lib/python3.8/site-packages/sklearn/linear_model/_coordinate_descent.py:530: ConvergenceWarning: Objective did not converge. You might want to increase the number of iterations. Duality gap: 3.3720942592963304e+16, tolerance: 61042138065662.19\n",
      "  model = cd_fast.enet_coordinate_descent(\n",
      "/Users/moninechan/opt/anaconda3/lib/python3.8/site-packages/sklearn/linear_model/_coordinate_descent.py:530: ConvergenceWarning: Objective did not converge. You might want to increase the number of iterations. Duality gap: 2.992627592711912e+16, tolerance: 63519432453248.3\n",
      "  model = cd_fast.enet_coordinate_descent(\n",
      "/Users/moninechan/opt/anaconda3/lib/python3.8/site-packages/sklearn/linear_model/_coordinate_descent.py:530: ConvergenceWarning: Objective did not converge. You might want to increase the number of iterations. Duality gap: 1.060043627934184e+16, tolerance: 46583342810785.07\n",
      "  model = cd_fast.enet_coordinate_descent(\n",
      "/Users/moninechan/opt/anaconda3/lib/python3.8/site-packages/sklearn/linear_model/_coordinate_descent.py:530: ConvergenceWarning: Objective did not converge. You might want to increase the number of iterations. Duality gap: 2.6180420362862536e+16, tolerance: 61664543272981.086\n",
      "  model = cd_fast.enet_coordinate_descent(\n",
      "/Users/moninechan/opt/anaconda3/lib/python3.8/site-packages/sklearn/linear_model/_coordinate_descent.py:530: ConvergenceWarning: Objective did not converge. You might want to increase the number of iterations. Duality gap: 2.9140707776237784e+16, tolerance: 32125516589410.727\n",
      "  model = cd_fast.enet_coordinate_descent(\n",
      "/Users/moninechan/opt/anaconda3/lib/python3.8/site-packages/sklearn/linear_model/_coordinate_descent.py:530: ConvergenceWarning: Objective did not converge. You might want to increase the number of iterations. Duality gap: 3.481597461537923e+16, tolerance: 61042138065662.19\n",
      "  model = cd_fast.enet_coordinate_descent(\n",
      "/Users/moninechan/opt/anaconda3/lib/python3.8/site-packages/sklearn/linear_model/_coordinate_descent.py:530: ConvergenceWarning: Objective did not converge. You might want to increase the number of iterations. Duality gap: 3.413673564993603e+16, tolerance: 63519432453248.3\n",
      "  model = cd_fast.enet_coordinate_descent(\n",
      "/Users/moninechan/opt/anaconda3/lib/python3.8/site-packages/sklearn/linear_model/_coordinate_descent.py:530: ConvergenceWarning: Objective did not converge. You might want to increase the number of iterations. Duality gap: 1.3236352218062152e+16, tolerance: 46583342810785.07\n",
      "  model = cd_fast.enet_coordinate_descent(\n",
      "/Users/moninechan/opt/anaconda3/lib/python3.8/site-packages/sklearn/linear_model/_coordinate_descent.py:530: ConvergenceWarning: Objective did not converge. You might want to increase the number of iterations. Duality gap: 2.672638708688947e+16, tolerance: 61664543272981.086\n",
      "  model = cd_fast.enet_coordinate_descent(\n",
      "/Users/moninechan/opt/anaconda3/lib/python3.8/site-packages/sklearn/linear_model/_coordinate_descent.py:530: ConvergenceWarning: Objective did not converge. You might want to increase the number of iterations. Duality gap: 3.0459834903371856e+16, tolerance: 32125516589410.727\n",
      "  model = cd_fast.enet_coordinate_descent(\n",
      "/Users/moninechan/opt/anaconda3/lib/python3.8/site-packages/sklearn/linear_model/_coordinate_descent.py:530: ConvergenceWarning: Objective did not converge. You might want to increase the number of iterations. Duality gap: 3.481391609857942e+16, tolerance: 61042138065662.19\n",
      "  model = cd_fast.enet_coordinate_descent(\n",
      "/Users/moninechan/opt/anaconda3/lib/python3.8/site-packages/sklearn/linear_model/_coordinate_descent.py:530: ConvergenceWarning: Objective did not converge. You might want to increase the number of iterations. Duality gap: 3.786122287956774e+16, tolerance: 63519432453248.3\n",
      "  model = cd_fast.enet_coordinate_descent(\n",
      "/Users/moninechan/opt/anaconda3/lib/python3.8/site-packages/sklearn/linear_model/_coordinate_descent.py:530: ConvergenceWarning: Objective did not converge. You might want to increase the number of iterations. Duality gap: 1.6713614733518332e+16, tolerance: 46583342810785.07\n",
      "  model = cd_fast.enet_coordinate_descent(\n",
      "/Users/moninechan/opt/anaconda3/lib/python3.8/site-packages/sklearn/linear_model/_coordinate_descent.py:530: ConvergenceWarning: Objective did not converge. You might want to increase the number of iterations. Duality gap: 2.836590073512227e+16, tolerance: 61664543272981.086\n",
      "  model = cd_fast.enet_coordinate_descent(\n",
      "/Users/moninechan/opt/anaconda3/lib/python3.8/site-packages/sklearn/linear_model/_coordinate_descent.py:530: ConvergenceWarning: Objective did not converge. You might want to increase the number of iterations. Duality gap: 3.216651651739471e+16, tolerance: 32125516589410.727\n",
      "  model = cd_fast.enet_coordinate_descent(\n",
      "/Users/moninechan/opt/anaconda3/lib/python3.8/site-packages/sklearn/linear_model/_coordinate_descent.py:530: ConvergenceWarning: Objective did not converge. You might want to increase the number of iterations. Duality gap: 3.4060322683040136e+16, tolerance: 61042138065662.19\n",
      "  model = cd_fast.enet_coordinate_descent(\n",
      "/Users/moninechan/opt/anaconda3/lib/python3.8/site-packages/sklearn/linear_model/_coordinate_descent.py:530: ConvergenceWarning: Objective did not converge. You might want to increase the number of iterations. Duality gap: 4.576214208070631e+16, tolerance: 63519432453248.3\n",
      "  model = cd_fast.enet_coordinate_descent(\n",
      "/Users/moninechan/opt/anaconda3/lib/python3.8/site-packages/sklearn/linear_model/_coordinate_descent.py:530: ConvergenceWarning: Objective did not converge. You might want to increase the number of iterations. Duality gap: 2.945088592346082e+16, tolerance: 46583342810785.07\n",
      "  model = cd_fast.enet_coordinate_descent(\n",
      "/Users/moninechan/opt/anaconda3/lib/python3.8/site-packages/sklearn/linear_model/_coordinate_descent.py:530: ConvergenceWarning: Objective did not converge. You might want to increase the number of iterations. Duality gap: 3.313223821519115e+16, tolerance: 61664543272981.086\n",
      "  model = cd_fast.enet_coordinate_descent(\n",
      "/Users/moninechan/opt/anaconda3/lib/python3.8/site-packages/sklearn/linear_model/_coordinate_descent.py:530: ConvergenceWarning: Objective did not converge. You might want to increase the number of iterations. Duality gap: 3.173442504807877e+16, tolerance: 32125516589410.727\n",
      "  model = cd_fast.enet_coordinate_descent(\n",
      "/Users/moninechan/opt/anaconda3/lib/python3.8/site-packages/sklearn/linear_model/_coordinate_descent.py:530: ConvergenceWarning: Objective did not converge. You might want to increase the number of iterations. Duality gap: 3.777567385520712e+16, tolerance: 61042138065662.19\n",
      "  model = cd_fast.enet_coordinate_descent(\n",
      "/Users/moninechan/opt/anaconda3/lib/python3.8/site-packages/sklearn/linear_model/_coordinate_descent.py:530: ConvergenceWarning: Objective did not converge. You might want to increase the number of iterations. Duality gap: 4.576196599171558e+16, tolerance: 63519432453248.3\n",
      "  model = cd_fast.enet_coordinate_descent(\n",
      "/Users/moninechan/opt/anaconda3/lib/python3.8/site-packages/sklearn/linear_model/_coordinate_descent.py:530: ConvergenceWarning: Objective did not converge. You might want to increase the number of iterations. Duality gap: 3.0291417343371256e+16, tolerance: 46583342810785.07\n",
      "  model = cd_fast.enet_coordinate_descent(\n",
      "/Users/moninechan/opt/anaconda3/lib/python3.8/site-packages/sklearn/linear_model/_coordinate_descent.py:530: ConvergenceWarning: Objective did not converge. You might want to increase the number of iterations. Duality gap: 3.4824151371949784e+16, tolerance: 61664543272981.086\n",
      "  model = cd_fast.enet_coordinate_descent(\n",
      "/Users/moninechan/opt/anaconda3/lib/python3.8/site-packages/sklearn/linear_model/_coordinate_descent.py:530: ConvergenceWarning: Objective did not converge. You might want to increase the number of iterations. Duality gap: 3.173440425451008e+16, tolerance: 32125516589410.727\n",
      "  model = cd_fast.enet_coordinate_descent(\n",
      "/Users/moninechan/opt/anaconda3/lib/python3.8/site-packages/sklearn/linear_model/_coordinate_descent.py:530: ConvergenceWarning: Objective did not converge. You might want to increase the number of iterations. Duality gap: 3.777565367241331e+16, tolerance: 61042138065662.19\n",
      "  model = cd_fast.enet_coordinate_descent(\n"
     ]
    },
    {
     "name": "stderr",
     "output_type": "stream",
     "text": [
      "/Users/moninechan/opt/anaconda3/lib/python3.8/site-packages/sklearn/linear_model/_coordinate_descent.py:530: ConvergenceWarning: Objective did not converge. You might want to increase the number of iterations. Duality gap: 4.576194843416079e+16, tolerance: 63519432453248.3\n",
      "  model = cd_fast.enet_coordinate_descent(\n",
      "/Users/moninechan/opt/anaconda3/lib/python3.8/site-packages/sklearn/linear_model/_coordinate_descent.py:530: ConvergenceWarning: Objective did not converge. You might want to increase the number of iterations. Duality gap: 3.0291400929138116e+16, tolerance: 46583342810785.07\n",
      "  model = cd_fast.enet_coordinate_descent(\n",
      "/Users/moninechan/opt/anaconda3/lib/python3.8/site-packages/sklearn/linear_model/_coordinate_descent.py:530: ConvergenceWarning: Objective did not converge. You might want to increase the number of iterations. Duality gap: 3.4824136628408856e+16, tolerance: 61664543272981.086\n",
      "  model = cd_fast.enet_coordinate_descent(\n",
      "/Users/moninechan/opt/anaconda3/lib/python3.8/site-packages/sklearn/linear_model/_coordinate_descent.py:530: ConvergenceWarning: Objective did not converge. You might want to increase the number of iterations. Duality gap: 3.1734401574628064e+16, tolerance: 32125516589410.727\n",
      "  model = cd_fast.enet_coordinate_descent(\n",
      "/Users/moninechan/opt/anaconda3/lib/python3.8/site-packages/sklearn/linear_model/_coordinate_descent.py:530: ConvergenceWarning: Objective did not converge. You might want to increase the number of iterations. Duality gap: 3.777565698182486e+16, tolerance: 61042138065662.19\n",
      "  model = cd_fast.enet_coordinate_descent(\n",
      "/Users/moninechan/opt/anaconda3/lib/python3.8/site-packages/sklearn/linear_model/_coordinate_descent.py:530: ConvergenceWarning: Objective did not converge. You might want to increase the number of iterations. Duality gap: 4.576194970708737e+16, tolerance: 63519432453248.3\n",
      "  model = cd_fast.enet_coordinate_descent(\n",
      "/Users/moninechan/opt/anaconda3/lib/python3.8/site-packages/sklearn/linear_model/_coordinate_descent.py:530: ConvergenceWarning: Objective did not converge. You might want to increase the number of iterations. Duality gap: 3.0291399634126136e+16, tolerance: 46583342810785.07\n",
      "  model = cd_fast.enet_coordinate_descent(\n",
      "/Users/moninechan/opt/anaconda3/lib/python3.8/site-packages/sklearn/linear_model/_coordinate_descent.py:530: ConvergenceWarning: Objective did not converge. You might want to increase the number of iterations. Duality gap: 3.482413138028205e+16, tolerance: 61664543272981.086\n",
      "  model = cd_fast.enet_coordinate_descent(\n",
      "/Users/moninechan/opt/anaconda3/lib/python3.8/site-packages/sklearn/linear_model/_coordinate_descent.py:530: ConvergenceWarning: Objective did not converge. You might want to increase the number of iterations. Duality gap: 3.055244123652195e+16, tolerance: 32125516589410.727\n",
      "  model = cd_fast.enet_coordinate_descent(\n",
      "/Users/moninechan/opt/anaconda3/lib/python3.8/site-packages/sklearn/linear_model/_coordinate_descent.py:530: ConvergenceWarning: Objective did not converge. You might want to increase the number of iterations. Duality gap: 3.406053396448831e+16, tolerance: 61042138065662.19\n",
      "  model = cd_fast.enet_coordinate_descent(\n",
      "/Users/moninechan/opt/anaconda3/lib/python3.8/site-packages/sklearn/linear_model/_coordinate_descent.py:530: ConvergenceWarning: Objective did not converge. You might want to increase the number of iterations. Duality gap: 4.256715078614372e+16, tolerance: 63519432453248.3\n",
      "  model = cd_fast.enet_coordinate_descent(\n",
      "/Users/moninechan/opt/anaconda3/lib/python3.8/site-packages/sklearn/linear_model/_coordinate_descent.py:530: ConvergenceWarning: Objective did not converge. You might want to increase the number of iterations. Duality gap: 2.9011877119365104e+16, tolerance: 46583342810785.07\n",
      "  model = cd_fast.enet_coordinate_descent(\n",
      "/Users/moninechan/opt/anaconda3/lib/python3.8/site-packages/sklearn/linear_model/_coordinate_descent.py:530: ConvergenceWarning: Objective did not converge. You might want to increase the number of iterations. Duality gap: 3.313239558686595e+16, tolerance: 61664543272981.086\n",
      "  model = cd_fast.enet_coordinate_descent(\n",
      "/Users/moninechan/opt/anaconda3/lib/python3.8/site-packages/sklearn/linear_model/_coordinate_descent.py:530: ConvergenceWarning: Objective did not converge. You might want to increase the number of iterations. Duality gap: 3.1734448094715524e+16, tolerance: 32125516589410.727\n",
      "  model = cd_fast.enet_coordinate_descent(\n",
      "/Users/moninechan/opt/anaconda3/lib/python3.8/site-packages/sklearn/linear_model/_coordinate_descent.py:530: ConvergenceWarning: Objective did not converge. You might want to increase the number of iterations. Duality gap: 3.359329596359744e+16, tolerance: 61042138065662.19\n",
      "  model = cd_fast.enet_coordinate_descent(\n",
      "/Users/moninechan/opt/anaconda3/lib/python3.8/site-packages/sklearn/linear_model/_coordinate_descent.py:530: ConvergenceWarning: Objective did not converge. You might want to increase the number of iterations. Duality gap: 4.5761985580354744e+16, tolerance: 63519432453248.3\n",
      "  model = cd_fast.enet_coordinate_descent(\n",
      "/Users/moninechan/opt/anaconda3/lib/python3.8/site-packages/sklearn/linear_model/_coordinate_descent.py:530: ConvergenceWarning: Objective did not converge. You might want to increase the number of iterations. Duality gap: 3.0291435509887092e+16, tolerance: 46583342810785.07\n",
      "  model = cd_fast.enet_coordinate_descent(\n",
      "/Users/moninechan/opt/anaconda3/lib/python3.8/site-packages/sklearn/linear_model/_coordinate_descent.py:530: ConvergenceWarning: Objective did not converge. You might want to increase the number of iterations. Duality gap: 3.482416768002687e+16, tolerance: 61664543272981.086\n",
      "  model = cd_fast.enet_coordinate_descent(\n",
      "/Users/moninechan/opt/anaconda3/lib/python3.8/site-packages/sklearn/linear_model/_coordinate_descent.py:530: ConvergenceWarning: Objective did not converge. You might want to increase the number of iterations. Duality gap: 3.1734406580159304e+16, tolerance: 32125516589410.727\n",
      "  model = cd_fast.enet_coordinate_descent(\n",
      "/Users/moninechan/opt/anaconda3/lib/python3.8/site-packages/sklearn/linear_model/_coordinate_descent.py:530: ConvergenceWarning: Objective did not converge. You might want to increase the number of iterations. Duality gap: 3.777565612444314e+16, tolerance: 61042138065662.19\n",
      "  model = cd_fast.enet_coordinate_descent(\n",
      "/Users/moninechan/opt/anaconda3/lib/python3.8/site-packages/sklearn/linear_model/_coordinate_descent.py:530: ConvergenceWarning: Objective did not converge. You might want to increase the number of iterations. Duality gap: 4.5761950377244904e+16, tolerance: 63519432453248.3\n",
      "  model = cd_fast.enet_coordinate_descent(\n",
      "/Users/moninechan/opt/anaconda3/lib/python3.8/site-packages/sklearn/linear_model/_coordinate_descent.py:530: ConvergenceWarning: Objective did not converge. You might want to increase the number of iterations. Duality gap: 3.02914027070464e+16, tolerance: 46583342810785.07\n",
      "  model = cd_fast.enet_coordinate_descent(\n",
      "/Users/moninechan/opt/anaconda3/lib/python3.8/site-packages/sklearn/linear_model/_coordinate_descent.py:530: ConvergenceWarning: Objective did not converge. You might want to increase the number of iterations. Duality gap: 3.48241380695862e+16, tolerance: 61664543272981.086\n",
      "  model = cd_fast.enet_coordinate_descent(\n",
      "/Users/moninechan/opt/anaconda3/lib/python3.8/site-packages/sklearn/linear_model/_coordinate_descent.py:530: ConvergenceWarning: Objective did not converge. You might want to increase the number of iterations. Duality gap: 3.173440187512611e+16, tolerance: 32125516589410.727\n",
      "  model = cd_fast.enet_coordinate_descent(\n",
      "/Users/moninechan/opt/anaconda3/lib/python3.8/site-packages/sklearn/linear_model/_coordinate_descent.py:530: ConvergenceWarning: Objective did not converge. You might want to increase the number of iterations. Duality gap: 3.777565181557915e+16, tolerance: 61042138065662.19\n",
      "  model = cd_fast.enet_coordinate_descent(\n",
      "/Users/moninechan/opt/anaconda3/lib/python3.8/site-packages/sklearn/linear_model/_coordinate_descent.py:530: ConvergenceWarning: Objective did not converge. You might want to increase the number of iterations. Duality gap: 4.576194669758732e+16, tolerance: 63519432453248.3\n",
      "  model = cd_fast.enet_coordinate_descent(\n"
     ]
    },
    {
     "name": "stderr",
     "output_type": "stream",
     "text": [
      "/Users/moninechan/opt/anaconda3/lib/python3.8/site-packages/sklearn/linear_model/_coordinate_descent.py:530: ConvergenceWarning: Objective did not converge. You might want to increase the number of iterations. Duality gap: 3.0291399727240016e+16, tolerance: 46583342810785.07\n",
      "  model = cd_fast.enet_coordinate_descent(\n",
      "/Users/moninechan/opt/anaconda3/lib/python3.8/site-packages/sklearn/linear_model/_coordinate_descent.py:530: ConvergenceWarning: Objective did not converge. You might want to increase the number of iterations. Duality gap: 3.482413220130129e+16, tolerance: 61664543272981.086\n",
      "  model = cd_fast.enet_coordinate_descent(\n",
      "/Users/moninechan/opt/anaconda3/lib/python3.8/site-packages/sklearn/linear_model/_coordinate_descent.py:530: ConvergenceWarning: Objective did not converge. You might want to increase the number of iterations. Duality gap: 3.173440046149039e+16, tolerance: 32125516589410.727\n",
      "  model = cd_fast.enet_coordinate_descent(\n",
      "/Users/moninechan/opt/anaconda3/lib/python3.8/site-packages/sklearn/linear_model/_coordinate_descent.py:530: ConvergenceWarning: Objective did not converge. You might want to increase the number of iterations. Duality gap: 3.777563421772555e+16, tolerance: 61042138065662.19\n",
      "  model = cd_fast.enet_coordinate_descent(\n",
      "/Users/moninechan/opt/anaconda3/lib/python3.8/site-packages/sklearn/linear_model/_coordinate_descent.py:530: ConvergenceWarning: Objective did not converge. You might want to increase the number of iterations. Duality gap: 4.576195234220092e+16, tolerance: 63519432453248.3\n",
      "  model = cd_fast.enet_coordinate_descent(\n",
      "/Users/moninechan/opt/anaconda3/lib/python3.8/site-packages/sklearn/linear_model/_coordinate_descent.py:530: ConvergenceWarning: Objective did not converge. You might want to increase the number of iterations. Duality gap: 3.029139586198507e+16, tolerance: 46583342810785.07\n",
      "  model = cd_fast.enet_coordinate_descent(\n",
      "/Users/moninechan/opt/anaconda3/lib/python3.8/site-packages/sklearn/linear_model/_coordinate_descent.py:530: ConvergenceWarning: Objective did not converge. You might want to increase the number of iterations. Duality gap: 3.4824135203142984e+16, tolerance: 61664543272981.086\n",
      "  model = cd_fast.enet_coordinate_descent(\n",
      "/Users/moninechan/opt/anaconda3/lib/python3.8/site-packages/sklearn/model_selection/_validation.py:593: UserWarning: With alpha=0, this algorithm does not converge well. You are advised to use the LinearRegression estimator\n",
      "  estimator.fit(X_train, y_train, **fit_params)\n",
      "/Users/moninechan/opt/anaconda3/lib/python3.8/site-packages/sklearn/linear_model/_coordinate_descent.py:530: UserWarning: Coordinate descent with no regularization may lead to unexpected results and is discouraged.\n",
      "  model = cd_fast.enet_coordinate_descent(\n",
      "/Users/moninechan/opt/anaconda3/lib/python3.8/site-packages/sklearn/linear_model/_coordinate_descent.py:530: ConvergenceWarning: Objective did not converge. You might want to increase the number of iterations. Duality gap: 4.086683203734999e+16, tolerance: 32125516589410.727\n",
      "  model = cd_fast.enet_coordinate_descent(\n",
      "/Users/moninechan/opt/anaconda3/lib/python3.8/site-packages/sklearn/model_selection/_validation.py:593: UserWarning: With alpha=0, this algorithm does not converge well. You are advised to use the LinearRegression estimator\n",
      "  estimator.fit(X_train, y_train, **fit_params)\n",
      "/Users/moninechan/opt/anaconda3/lib/python3.8/site-packages/sklearn/linear_model/_coordinate_descent.py:530: UserWarning: Coordinate descent with no regularization may lead to unexpected results and is discouraged.\n",
      "  model = cd_fast.enet_coordinate_descent(\n",
      "/Users/moninechan/opt/anaconda3/lib/python3.8/site-packages/sklearn/linear_model/_coordinate_descent.py:530: ConvergenceWarning: Objective did not converge. You might want to increase the number of iterations. Duality gap: 6.27920465277902e+16, tolerance: 61042138065662.19\n",
      "  model = cd_fast.enet_coordinate_descent(\n",
      "/Users/moninechan/opt/anaconda3/lib/python3.8/site-packages/sklearn/model_selection/_validation.py:593: UserWarning: With alpha=0, this algorithm does not converge well. You are advised to use the LinearRegression estimator\n",
      "  estimator.fit(X_train, y_train, **fit_params)\n",
      "/Users/moninechan/opt/anaconda3/lib/python3.8/site-packages/sklearn/linear_model/_coordinate_descent.py:530: UserWarning: Coordinate descent with no regularization may lead to unexpected results and is discouraged.\n",
      "  model = cd_fast.enet_coordinate_descent(\n",
      "/Users/moninechan/opt/anaconda3/lib/python3.8/site-packages/sklearn/linear_model/_coordinate_descent.py:530: ConvergenceWarning: Objective did not converge. You might want to increase the number of iterations. Duality gap: 7.930372083859811e+16, tolerance: 63519432453248.3\n",
      "  model = cd_fast.enet_coordinate_descent(\n",
      "/Users/moninechan/opt/anaconda3/lib/python3.8/site-packages/sklearn/model_selection/_validation.py:593: UserWarning: With alpha=0, this algorithm does not converge well. You are advised to use the LinearRegression estimator\n",
      "  estimator.fit(X_train, y_train, **fit_params)\n",
      "/Users/moninechan/opt/anaconda3/lib/python3.8/site-packages/sklearn/linear_model/_coordinate_descent.py:530: UserWarning: Coordinate descent with no regularization may lead to unexpected results and is discouraged.\n",
      "  model = cd_fast.enet_coordinate_descent(\n",
      "/Users/moninechan/opt/anaconda3/lib/python3.8/site-packages/sklearn/linear_model/_coordinate_descent.py:530: ConvergenceWarning: Objective did not converge. You might want to increase the number of iterations. Duality gap: 4.291351258758024e+16, tolerance: 46583342810785.07\n",
      "  model = cd_fast.enet_coordinate_descent(\n",
      "/Users/moninechan/opt/anaconda3/lib/python3.8/site-packages/sklearn/model_selection/_validation.py:593: UserWarning: With alpha=0, this algorithm does not converge well. You are advised to use the LinearRegression estimator\n",
      "  estimator.fit(X_train, y_train, **fit_params)\n",
      "/Users/moninechan/opt/anaconda3/lib/python3.8/site-packages/sklearn/linear_model/_coordinate_descent.py:530: UserWarning: Coordinate descent with no regularization may lead to unexpected results and is discouraged.\n",
      "  model = cd_fast.enet_coordinate_descent(\n",
      "/Users/moninechan/opt/anaconda3/lib/python3.8/site-packages/sklearn/linear_model/_coordinate_descent.py:530: ConvergenceWarning: Objective did not converge. You might want to increase the number of iterations. Duality gap: 7.696970826278413e+16, tolerance: 61664543272981.086\n",
      "  model = cd_fast.enet_coordinate_descent(\n",
      "/Users/moninechan/opt/anaconda3/lib/python3.8/site-packages/sklearn/linear_model/_coordinate_descent.py:530: ConvergenceWarning: Objective did not converge. You might want to increase the number of iterations. Duality gap: 2.123556006570856e+16, tolerance: 66262594954545.695\n",
      "  model = cd_fast.enet_coordinate_descent(\n"
     ]
    },
    {
     "data": {
      "text/html": [
       "<style>div.sk-top-container {color: black;background-color: white;}div.sk-toggleable {background-color: white;}label.sk-toggleable__label {cursor: pointer;display: block;width: 100%;margin-bottom: 0;padding: 0.2em 0.3em;box-sizing: border-box;text-align: center;}div.sk-toggleable__content {max-height: 0;max-width: 0;overflow: hidden;text-align: left;background-color: #f0f8ff;}div.sk-toggleable__content pre {margin: 0.2em;color: black;border-radius: 0.25em;background-color: #f0f8ff;}input.sk-toggleable__control:checked~div.sk-toggleable__content {max-height: 200px;max-width: 100%;overflow: auto;}div.sk-estimator input.sk-toggleable__control:checked~label.sk-toggleable__label {background-color: #d4ebff;}div.sk-label input.sk-toggleable__control:checked~label.sk-toggleable__label {background-color: #d4ebff;}input.sk-hidden--visually {border: 0;clip: rect(1px 1px 1px 1px);clip: rect(1px, 1px, 1px, 1px);height: 1px;margin: -1px;overflow: hidden;padding: 0;position: absolute;width: 1px;}div.sk-estimator {font-family: monospace;background-color: #f0f8ff;margin: 0.25em 0.25em;border: 1px dotted black;border-radius: 0.25em;box-sizing: border-box;}div.sk-estimator:hover {background-color: #d4ebff;}div.sk-parallel-item::after {content: \"\";width: 100%;border-bottom: 1px solid gray;flex-grow: 1;}div.sk-label:hover label.sk-toggleable__label {background-color: #d4ebff;}div.sk-serial::before {content: \"\";position: absolute;border-left: 1px solid gray;box-sizing: border-box;top: 2em;bottom: 0;left: 50%;}div.sk-serial {display: flex;flex-direction: column;align-items: center;background-color: white;}div.sk-item {z-index: 1;}div.sk-parallel {display: flex;align-items: stretch;justify-content: center;background-color: white;}div.sk-parallel-item {display: flex;flex-direction: column;position: relative;background-color: white;}div.sk-parallel-item:first-child::after {align-self: flex-end;width: 50%;}div.sk-parallel-item:last-child::after {align-self: flex-start;width: 50%;}div.sk-parallel-item:only-child::after {width: 0;}div.sk-dashed-wrapped {border: 1px dashed gray;margin: 0.2em;box-sizing: border-box;padding-bottom: 0.1em;background-color: white;position: relative;}div.sk-label label {font-family: monospace;font-weight: bold;background-color: white;display: inline-block;line-height: 1.2em;}div.sk-label-container {position: relative;z-index: 2;text-align: center;}div.sk-container {display: inline-block;position: relative;}</style><div class=\"sk-top-container\"><div class=\"sk-container\"><div class=\"sk-item sk-dashed-wrapped\"><div class=\"sk-label-container\"><div class=\"sk-label sk-toggleable\"><input class=\"sk-toggleable__control sk-hidden--visually\" id=\"25e493af-a563-4c71-8e29-5923e2c27bc0\" type=\"checkbox\" ><label class=\"sk-toggleable__label\" for=\"25e493af-a563-4c71-8e29-5923e2c27bc0\">GridSearchCV</label><div class=\"sk-toggleable__content\"><pre>GridSearchCV(estimator=Lasso(random_state=42),\n",
       "             param_grid={'alpha': array([2.e+01, 1.e+01, 5.e+00, 5.e-01, 5.e-02, 5.e-03, 5.e-04, 1.e+00,\n",
       "       1.e-01, 1.e-02, 1.e-03, 1.e-04, 0.e+00])},\n",
       "             scoring='neg_mean_squared_error')</pre></div></div></div><div class=\"sk-parallel\"><div class=\"sk-parallel-item\"><div class=\"sk-item\"><div class=\"sk-serial\"><div class=\"sk-item\"><div class=\"sk-estimator sk-toggleable\"><input class=\"sk-toggleable__control sk-hidden--visually\" id=\"3277235e-97f1-4b40-b4ae-b53f896fc962\" type=\"checkbox\" ><label class=\"sk-toggleable__label\" for=\"3277235e-97f1-4b40-b4ae-b53f896fc962\">Lasso</label><div class=\"sk-toggleable__content\"><pre>Lasso(random_state=42)</pre></div></div></div></div></div></div></div></div></div></div>"
      ],
      "text/plain": [
       "GridSearchCV(estimator=Lasso(random_state=42),\n",
       "             param_grid={'alpha': array([2.e+01, 1.e+01, 5.e+00, 5.e-01, 5.e-02, 5.e-03, 5.e-04, 1.e+00,\n",
       "       1.e-01, 1.e-02, 1.e-03, 1.e-04, 0.e+00])},\n",
       "             scoring='neg_mean_squared_error')"
      ]
     },
     "execution_count": 28,
     "metadata": {},
     "output_type": "execute_result"
    }
   ],
   "source": [
    "grid.fit(X_train, y_train)"
   ]
  },
  {
   "cell_type": "code",
   "execution_count": 29,
   "id": "90bc91fb",
   "metadata": {},
   "outputs": [
    {
     "name": "stdout",
     "output_type": "stream",
     "text": [
      "20.0\n",
      "-360938026247679.06\n"
     ]
    }
   ],
   "source": [
    "print(grid.best_estimator_.alpha)\n",
    "print(grid.best_score_)\n"
   ]
  },
  {
   "cell_type": "code",
   "execution_count": 30,
   "id": "80b59ab9",
   "metadata": {},
   "outputs": [
    {
     "data": {
      "text/plain": [
       "{'alpha': 20.0}"
      ]
     },
     "execution_count": 30,
     "metadata": {},
     "output_type": "execute_result"
    }
   ],
   "source": [
    "grid.best_params_"
   ]
  },
  {
   "cell_type": "code",
   "execution_count": 31,
   "id": "d41d04bf",
   "metadata": {},
   "outputs": [],
   "source": [
    "df_alphas_lasso = pd.DataFrame(grid.cv_results_)"
   ]
  },
  {
   "cell_type": "code",
   "execution_count": 32,
   "id": "2ccdcf5b",
   "metadata": {
    "scrolled": true
   },
   "outputs": [
    {
     "data": {
      "text/html": [
       "<div>\n",
       "<style scoped>\n",
       "    .dataframe tbody tr th:only-of-type {\n",
       "        vertical-align: middle;\n",
       "    }\n",
       "\n",
       "    .dataframe tbody tr th {\n",
       "        vertical-align: top;\n",
       "    }\n",
       "\n",
       "    .dataframe thead th {\n",
       "        text-align: right;\n",
       "    }\n",
       "</style>\n",
       "<table border=\"1\" class=\"dataframe\">\n",
       "  <thead>\n",
       "    <tr style=\"text-align: right;\">\n",
       "      <th></th>\n",
       "      <th>mean_fit_time</th>\n",
       "      <th>std_fit_time</th>\n",
       "      <th>mean_score_time</th>\n",
       "      <th>std_score_time</th>\n",
       "      <th>param_alpha</th>\n",
       "      <th>params</th>\n",
       "      <th>split0_test_score</th>\n",
       "      <th>split1_test_score</th>\n",
       "      <th>split2_test_score</th>\n",
       "      <th>split3_test_score</th>\n",
       "      <th>split4_test_score</th>\n",
       "      <th>mean_test_score</th>\n",
       "      <th>std_test_score</th>\n",
       "      <th>rank_test_score</th>\n",
       "    </tr>\n",
       "  </thead>\n",
       "  <tbody>\n",
       "    <tr>\n",
       "      <th>0</th>\n",
       "      <td>0.211329</td>\n",
       "      <td>0.167986</td>\n",
       "      <td>0.004092</td>\n",
       "      <td>0.000764</td>\n",
       "      <td>20.0</td>\n",
       "      <td>{'alpha': 20.0}</td>\n",
       "      <td>-9.150930e+14</td>\n",
       "      <td>-2.361286e+14</td>\n",
       "      <td>-5.324531e+13</td>\n",
       "      <td>-5.267122e+14</td>\n",
       "      <td>-7.351101e+13</td>\n",
       "      <td>-3.609380e+14</td>\n",
       "      <td>3.247877e+14</td>\n",
       "      <td>1</td>\n",
       "    </tr>\n",
       "    <tr>\n",
       "      <th>1</th>\n",
       "      <td>0.230220</td>\n",
       "      <td>0.123527</td>\n",
       "      <td>0.004919</td>\n",
       "      <td>0.001797</td>\n",
       "      <td>10.0</td>\n",
       "      <td>{'alpha': 10.0}</td>\n",
       "      <td>-9.151623e+14</td>\n",
       "      <td>-2.361370e+14</td>\n",
       "      <td>-5.327330e+13</td>\n",
       "      <td>-5.267107e+14</td>\n",
       "      <td>-7.347451e+13</td>\n",
       "      <td>-3.609516e+14</td>\n",
       "      <td>3.248117e+14</td>\n",
       "      <td>2</td>\n",
       "    </tr>\n",
       "    <tr>\n",
       "      <th>2</th>\n",
       "      <td>0.153558</td>\n",
       "      <td>0.045661</td>\n",
       "      <td>0.004264</td>\n",
       "      <td>0.000707</td>\n",
       "      <td>5.0</td>\n",
       "      <td>{'alpha': 5.0}</td>\n",
       "      <td>-9.151959e+14</td>\n",
       "      <td>-2.361430e+14</td>\n",
       "      <td>-5.328748e+13</td>\n",
       "      <td>-5.267102e+14</td>\n",
       "      <td>-7.345260e+13</td>\n",
       "      <td>-3.609578e+14</td>\n",
       "      <td>3.248239e+14</td>\n",
       "      <td>3</td>\n",
       "    </tr>\n",
       "    <tr>\n",
       "      <th>3</th>\n",
       "      <td>0.189435</td>\n",
       "      <td>0.107885</td>\n",
       "      <td>0.004425</td>\n",
       "      <td>0.000919</td>\n",
       "      <td>0.5</td>\n",
       "      <td>{'alpha': 0.5}</td>\n",
       "      <td>-9.152358e+14</td>\n",
       "      <td>-2.361498e+14</td>\n",
       "      <td>-5.330981e+13</td>\n",
       "      <td>-5.267129e+14</td>\n",
       "      <td>-7.343086e+13</td>\n",
       "      <td>-3.609678e+14</td>\n",
       "      <td>3.248369e+14</td>\n",
       "      <td>5</td>\n",
       "    </tr>\n",
       "    <tr>\n",
       "      <th>4</th>\n",
       "      <td>0.147030</td>\n",
       "      <td>0.012246</td>\n",
       "      <td>0.004655</td>\n",
       "      <td>0.000650</td>\n",
       "      <td>0.05</td>\n",
       "      <td>{'alpha': 0.05}</td>\n",
       "      <td>-9.152396e+14</td>\n",
       "      <td>-2.361506e+14</td>\n",
       "      <td>-5.331183e+13</td>\n",
       "      <td>-5.267133e+14</td>\n",
       "      <td>-7.342869e+13</td>\n",
       "      <td>-3.609688e+14</td>\n",
       "      <td>3.248381e+14</td>\n",
       "      <td>7</td>\n",
       "    </tr>\n",
       "  </tbody>\n",
       "</table>\n",
       "</div>"
      ],
      "text/plain": [
       "   mean_fit_time  std_fit_time  mean_score_time  std_score_time param_alpha  \\\n",
       "0       0.211329      0.167986         0.004092        0.000764        20.0   \n",
       "1       0.230220      0.123527         0.004919        0.001797        10.0   \n",
       "2       0.153558      0.045661         0.004264        0.000707         5.0   \n",
       "3       0.189435      0.107885         0.004425        0.000919         0.5   \n",
       "4       0.147030      0.012246         0.004655        0.000650        0.05   \n",
       "\n",
       "            params  split0_test_score  split1_test_score  split2_test_score  \\\n",
       "0  {'alpha': 20.0}      -9.150930e+14      -2.361286e+14      -5.324531e+13   \n",
       "1  {'alpha': 10.0}      -9.151623e+14      -2.361370e+14      -5.327330e+13   \n",
       "2   {'alpha': 5.0}      -9.151959e+14      -2.361430e+14      -5.328748e+13   \n",
       "3   {'alpha': 0.5}      -9.152358e+14      -2.361498e+14      -5.330981e+13   \n",
       "4  {'alpha': 0.05}      -9.152396e+14      -2.361506e+14      -5.331183e+13   \n",
       "\n",
       "   split3_test_score  split4_test_score  mean_test_score  std_test_score  \\\n",
       "0      -5.267122e+14      -7.351101e+13    -3.609380e+14    3.247877e+14   \n",
       "1      -5.267107e+14      -7.347451e+13    -3.609516e+14    3.248117e+14   \n",
       "2      -5.267102e+14      -7.345260e+13    -3.609578e+14    3.248239e+14   \n",
       "3      -5.267129e+14      -7.343086e+13    -3.609678e+14    3.248369e+14   \n",
       "4      -5.267133e+14      -7.342869e+13    -3.609688e+14    3.248381e+14   \n",
       "\n",
       "   rank_test_score  \n",
       "0                1  \n",
       "1                2  \n",
       "2                3  \n",
       "3                5  \n",
       "4                7  "
      ]
     },
     "execution_count": 32,
     "metadata": {},
     "output_type": "execute_result"
    }
   ],
   "source": [
    "df_alphas_lasso.head()"
   ]
  },
  {
   "cell_type": "code",
   "execution_count": 33,
   "id": "6f7f01b1",
   "metadata": {},
   "outputs": [],
   "source": [
    "df_alphas_lasso[\"param_alpha\"] = df_alphas_lasso.params.apply(lambda x: x[\"alpha\"])"
   ]
  },
  {
   "cell_type": "code",
   "execution_count": 34,
   "id": "13850cc0",
   "metadata": {
    "scrolled": true
   },
   "outputs": [
    {
     "data": {
      "text/plain": [
       "Text(0, 0.5, 'mean_test_score')"
      ]
     },
     "execution_count": 34,
     "metadata": {},
     "output_type": "execute_result"
    },
    {
     "data": {
      "image/png": "[encoded data removed]",
      "text/plain": [
       "<Figure size 360x360 with 1 Axes>"
      ]
     },
     "metadata": {},
     "output_type": "display_data"
    }
   ],
   "source": [
    "fig = plt.figure(figsize=(5, 5))\n",
    "ax = plt.subplot()\n",
    "df_alphas_lasso.set_index(\"param_alpha\")[[\"mean_test_score\"]].plot(ax=ax)\n",
    "ax.set_xlabel(\"alpha\")\n",
    "ax.set_ylabel(\"mean_test_score\")"
   ]
  },
  {
   "cell_type": "code",
   "execution_count": 35,
   "id": "ae830a53",
   "metadata": {},
   "outputs": [],
   "source": [
    "y_pred_lasso = grid.predict(X_test)"
   ]
  },
  {
   "cell_type": "code",
   "execution_count": 36,
   "id": "e8e80f22",
   "metadata": {},
   "outputs": [],
   "source": [
    "rmse_y_pred_lasso = np.sqrt(mean_squared_error(y_test, y_pred_lasso))"
   ]
  },
  {
   "cell_type": "code",
   "execution_count": 37,
   "id": "ddbd5f3b",
   "metadata": {
    "scrolled": true
   },
   "outputs": [
    {
     "data": {
      "text/plain": [
       "13098199.123200385"
      ]
     },
     "execution_count": 37,
     "metadata": {},
     "output_type": "execute_result"
    }
   ],
   "source": [
    "rmse_y_pred_lasso"
   ]
  },
  {
   "cell_type": "code",
   "execution_count": 38,
   "id": "5b61c2ba",
   "metadata": {},
   "outputs": [
    {
     "name": "stdout",
     "output_type": "stream",
     "text": [
      "      SiteEnergyUse(kBtu)\n",
      "1043         2.797650e+06\n",
      "1302         1.023618e+06\n",
      "1344         4.433319e+06\n",
      "684          1.261799e+06\n",
      "165          2.067352e+06\n",
      "...                   ...\n",
      "997          8.586568e+05\n",
      "1399         6.626558e+06\n",
      "441          4.493960e+06\n",
      "1351         8.219536e+05\n",
      "161          1.062723e+06\n",
      "\n",
      "[538 rows x 1 columns]\n"
     ]
    }
   ],
   "source": [
    "print(y_test)"
   ]
  },
  {
   "cell_type": "code",
   "execution_count": 39,
   "id": "9bf1507f",
   "metadata": {},
   "outputs": [
    {
     "name": "stdout",
     "output_type": "stream",
     "text": [
      "[ 3.60886063e+06 -1.47764281e+06  6.27775989e+06  1.22196719e+07\n",
      "  4.26144721e+06  7.12829046e+06  7.57746814e+06  3.66232135e+06\n",
      "  1.68584193e+06  9.14387656e+06  9.40183496e+06  1.38057488e+06\n",
      " -7.72478158e+06  7.98719741e+06  2.22132156e+06  8.42864221e+06\n",
      "  6.16547001e+06 -1.45708655e+05  4.02055432e+06  8.21127174e+06\n",
      " -4.17856135e+05  3.73000412e+06  9.70260066e+06  3.41100623e+06\n",
      "  1.83624375e+06  1.78947876e+06  3.39589874e+06  1.25531435e+07\n",
      "  8.70274605e+06  3.07840914e+06  4.04183244e+06  3.12379403e+06\n",
      "  1.90973998e+06  1.46151221e+08  1.26384722e+06  1.05602320e+07\n",
      "  2.32589616e+06  6.02773444e+06  9.96860468e+05 -2.22461894e+05\n",
      "  2.22340363e+07  4.89064900e+06  1.20499594e+06  8.11708249e+06\n",
      " -8.97381264e+05  2.98082898e+06  1.15749739e+07  4.37343329e+05\n",
      "  8.54593431e+06  1.70816484e+06  1.34257851e+06  4.16241058e+06\n",
      "  6.21907307e+06  2.20429635e+06  4.31389905e+06  8.96473153e+06\n",
      " -4.45725370e+05  9.81619291e+06 -3.60338254e+05  3.52906478e+06\n",
      "  8.12068974e+06  4.17481478e+06  6.57754513e+05  2.37900015e+06\n",
      "  9.22546628e+06  2.70843585e+06  3.34227425e+06 -3.35522992e+06\n",
      "  4.69299027e+06  1.70333005e+05  3.21931720e+06  8.69884789e+06\n",
      "  1.26227930e+06  6.66599810e+06  1.16575713e+07  9.92211400e+06\n",
      " -6.31696243e+06 -1.89498657e+06  2.50092488e+06 -4.19364812e+05\n",
      "  2.32059719e+06  7.79985916e+06  1.34800169e+07  1.91078112e+07\n",
      "  1.91070373e+06  5.33074177e+07  2.30669072e+06  6.13069004e+06\n",
      "  2.15254786e+06  4.44157574e+06  2.42006363e+07  5.92086011e+06\n",
      " -1.95793115e+06  5.69896655e+05  1.48067580e+07  2.02273091e+07\n",
      "  1.71454840e+06  1.42571079e+07  1.60368486e+06  1.14346023e+07\n",
      "  7.57380126e+06  8.13258474e+06  4.22760828e+06 -3.75723775e+05\n",
      "  7.41375743e+07  9.26410537e+05  3.34655964e+06  2.38878674e+06\n",
      "  1.52664255e+06  2.46419557e+07  4.00523031e+06  1.10386367e+06\n",
      "  9.98958306e+06  6.97894938e+06  3.97438839e+06  3.23461042e+04\n",
      "  8.58694222e+06 -3.92610384e+05  4.55281209e+06  3.54289761e+06\n",
      "  1.06132106e+06  2.42288431e+06 -3.69130892e+05 -1.47764281e+06\n",
      "  3.08761239e+06 -8.26910140e+05  2.64472943e+06  3.90463339e+06\n",
      "  1.39958159e+06  4.85270845e+06  5.13248898e+07  5.80726985e+06\n",
      "  5.76533832e+06  7.90710988e+06  3.32326721e+06  1.67700905e+08\n",
      "  2.34116289e+06  1.72045275e+06  4.75679139e+06 -3.07810496e+06\n",
      "  1.25581182e+06  4.01996804e+07 -4.51483949e+05  5.64812691e+05\n",
      "  8.87004589e+07  5.81084854e+06  6.87401274e+07  4.80548064e+06\n",
      "  7.88598080e+06 -3.46057680e+06  8.85784428e+06  1.53035968e+06\n",
      "  4.34105875e+06 -4.26721123e+05 -2.86467778e+05  1.73958361e+06\n",
      "  3.17779096e+06  8.12068974e+06  3.63931535e+07 -6.28211735e+06\n",
      "  6.83200704e+06  1.91238622e+07  3.33923758e+06  1.16812037e+06\n",
      " -2.50518970e+06 -1.50052322e+06  6.07228727e+06  1.03485174e+07\n",
      "  6.48786918e+06  2.19914586e+06  4.55397299e+06  6.39259912e+06\n",
      "  8.81019287e+06  1.44213892e+06  6.22623267e+06  8.28693598e+06\n",
      "  8.15163344e+06  4.42723937e+06  7.18109311e+06  1.36618519e+07\n",
      " -9.11186171e+04  3.04428687e+06  1.07954896e+08  3.49137041e+06\n",
      " -5.13739053e+05  4.96052159e+06  4.43470486e+06  4.74743241e+06\n",
      "  7.69701624e+06  1.76285609e+06  1.48049514e+05 -2.00013644e+06\n",
      "  6.62370513e+05  4.39394614e+06  5.17301528e+06  8.14361570e+06\n",
      "  7.21407803e+06  1.13674237e+07  4.59646058e+06  1.41380481e+07\n",
      " -4.18602235e+06  8.21241760e+06  1.45079511e+06  1.10386367e+06\n",
      "  1.12784121e+07 -1.45869555e+06  1.90973998e+06  3.27444059e+06\n",
      "  5.54812444e+06 -1.52407787e+06  2.42818987e+07  3.88598992e+06\n",
      "  9.07702776e+05  3.10323241e+06  2.35228542e+07  1.61363382e+07\n",
      "  3.12203252e+06  2.78996715e+06  4.33725817e+07  7.32464530e+06\n",
      "  3.66475650e+07  1.41139733e+07  4.12421181e+06  1.62089580e+06\n",
      " -1.21695533e+06  4.22760828e+06  3.82687611e+06  1.67478183e+06\n",
      "  3.68139896e+06  9.45794207e+05  6.92922292e+06  8.09097409e+06\n",
      "  9.73165569e+06  1.89391904e+06  1.71256890e+06  4.71381072e+06\n",
      "  7.25564274e+06  1.74731465e+06  7.98135836e+05  1.23268808e+07\n",
      "  6.83221426e+05  1.57410874e+06  4.26144721e+06 -8.75202838e+05\n",
      "  1.43668148e+06  3.71024743e+05  2.56306338e+06  3.26628669e+07\n",
      "  1.66340471e+07  5.85258082e+06  7.03187333e+07  8.21490132e+06\n",
      "  8.49003270e+06  2.07779598e+06 -1.21695533e+06  9.00201834e+06\n",
      "  4.97540012e+06  1.02215550e+08  4.61377290e+06  1.53610470e+06\n",
      "  9.34359420e+07  8.07536105e+06  1.62170601e+07  4.31389905e+06\n",
      "  6.98408105e+06  4.19892711e+06  2.18347926e+06  7.61528871e+06\n",
      "  2.18623532e+07  3.90979164e+06 -1.90154005e+05  6.28513360e+06\n",
      "  1.60276839e+07  1.65434315e+06  1.28535299e+06  1.10429842e+06\n",
      "  2.64168623e+06  4.81024339e+06  2.80500169e+05  3.53623197e+06\n",
      "  4.56442698e+05  2.04113542e+06  5.13934117e+06 -7.58944793e+06\n",
      "  9.45794207e+05  7.80109836e+06  1.29416056e+07  3.61302702e+06\n",
      "  2.34580452e+06  3.54851178e+06  5.86678427e+07 -1.22116786e+06\n",
      "  1.99071150e+07  5.88779785e+06  7.85154878e+06  8.57295553e+06\n",
      "  2.53118140e+07  3.78329343e+07  4.74114117e+06  1.25866333e+07\n",
      "  4.56818862e+06  6.64860758e+05  1.37359485e+06  1.95995311e+06\n",
      "  4.51443231e+07  1.08075218e+07  1.70493096e+06  6.48509826e+06\n",
      "  1.75270904e+06  3.46471418e+06  2.82678794e+06  3.81528397e+06\n",
      "  7.75262045e+06  2.07779598e+06 -4.06121791e+06  4.11763687e+06\n",
      "  2.72397589e+06  2.62886292e+06  8.11829715e+06  1.53026551e+06\n",
      "  1.59394175e+07  3.36901942e+06  4.20266297e+06 -9.36734033e+05\n",
      "  2.60696803e+06  7.55993954e+06 -8.48436179e+06  1.56173741e+06\n",
      "  3.08685978e+07  9.66096728e+06  5.81569841e+06  1.25570105e+07\n",
      "  5.91909428e+06  3.13005233e+06  7.55978036e+06  3.08326314e+06\n",
      "  1.73252019e+05  4.58867851e+06  8.94412871e+06 -6.87239994e+05\n",
      "  4.55350416e+06  1.62952536e+06  1.00500574e+07  4.24925986e+05\n",
      "  2.50419257e+06 -4.00833314e+05  2.76020134e+06  7.98135836e+05\n",
      "  5.85642517e+06  8.27711300e+06  3.68779188e+06 -5.04466794e+05\n",
      "  8.04743827e+06  7.76616776e+07  1.36092970e+06  1.70333005e+05\n",
      "  5.33436744e+06  1.00212396e+07  1.20614953e+07  1.71466798e+06\n",
      "  3.56910450e+06  8.97590687e+06  9.23113014e+04  7.48602312e+05\n",
      " -4.70317859e+05  1.25570105e+07  1.12835818e+07 -8.47638370e+05\n",
      "  8.25578594e+06  7.04826874e+06  1.25307650e+07  1.30425198e+06\n",
      "  7.61830328e+06  5.90025106e+06  6.94443165e+05  2.77689214e+06\n",
      "  2.54321204e+07  3.40508856e+06 -9.69430734e+06  2.70681404e+07\n",
      "  7.81564355e+06  3.03537858e+06  1.63768679e+06  1.85860733e+06\n",
      "  4.39566286e+06  6.24129385e+06  4.36145470e+05  1.42392583e+07\n",
      "  1.09371434e+07 -1.05653972e+06  1.34883583e+06  6.47007665e+06\n",
      " -1.43046937e+06  3.72133175e+06  5.57180228e+06  5.83867077e+06\n",
      "  2.81922439e+06  6.63512583e+06  5.01989875e+06  5.24607373e+06\n",
      "  3.38428463e+06  7.99421570e+06  1.31969195e+06 -2.04620925e+06\n",
      "  9.35631239e+06  1.92416970e+07  1.24103195e+06  4.06050712e+06\n",
      "  3.07659534e+06  1.50830280e+07  6.31171506e+06  5.37275239e+06\n",
      "  3.31910128e+06  2.44612887e+06 -2.07886059e+06  1.06395779e+07\n",
      "  2.16254302e+07  4.55853436e+06 -3.97836933e+05  7.58849076e+06\n",
      "  2.18191966e+07  1.03656535e+06  2.85411405e+06  9.83456212e+06\n",
      "  3.22339472e+06  1.01786197e+06  2.76345247e+06 -9.16003174e+05\n",
      "  3.40590479e+06  9.67983496e+06 -4.54823772e+05  8.56975480e+06\n",
      "  3.42936145e+06  1.17931558e+07  7.21926651e+06  8.57434914e+06\n",
      "  2.56889352e+07  1.21611296e+08  1.01955479e+07  1.18768013e+07\n",
      "  8.72208923e+06  3.11209399e+06  8.80139583e+06  2.01237427e+07\n",
      "  8.48961817e+06  8.42078324e+06  7.69317857e+07  6.92500476e+06\n",
      "  1.25115675e+06  3.75135095e+06  3.44592168e+06  5.93478160e+05\n",
      "  8.99641229e+06  4.62718046e+06  2.87332446e+06  4.99592450e+06\n",
      "  2.47003915e+07  1.44015894e+07  1.45886916e+07  1.15763211e+07\n",
      "  1.50412441e+06  2.81320194e+06  2.97442642e+07  1.06395779e+07\n",
      "  8.53130801e+05  8.83046072e+06  2.31771925e+06  4.70770071e+06\n",
      "  1.04598821e+06 -6.63630643e+05  1.37844864e+06  1.27246737e+06\n",
      "  1.13227604e+06  6.72057990e+06  1.58013382e+07  5.72217433e+06\n",
      "  1.91094710e+06  1.22923668e+07  1.26346366e+06 -3.70855728e+06\n",
      "  5.93773982e+06  7.73237224e+06  1.86572551e+06  1.17451064e+06\n",
      "  3.92256895e+07  7.25950991e+06  3.34655964e+06  2.06519029e+06\n",
      " -6.61141198e+06 -1.94501481e+06  6.27717137e+06 -2.76663144e+04\n",
      " -3.11575917e+04  1.50146935e+06  5.28858756e+06 -2.60682026e+06\n",
      "  8.08198813e+06  2.29913259e+06  2.40992397e+06  3.34210526e+07\n",
      "  4.99269468e+07  3.35981108e+06  7.04120090e+05 -3.17741829e+05\n",
      "  1.23859604e+07  1.50146935e+06  8.64471405e+06  4.82765444e+06\n",
      "  1.46033156e+07  2.05804029e+06  2.02904080e+07 -2.33624181e+06\n",
      "  1.58199900e+07  1.37217521e+06  7.06716540e+06  1.38734804e+07\n",
      "  1.00022748e+07  9.76500921e+06  5.29386960e+05  4.75936416e+06\n",
      "  1.13577377e+06  9.07595612e+05 -8.07794942e+05  2.18623532e+07\n",
      "  6.39259912e+06  3.10395272e+06  2.46220420e+06  4.60497568e+06\n",
      "  3.36179692e+06  1.29721760e+07  3.70808611e+06  5.16805012e+06\n",
      "  1.41850398e+06  1.59420793e+06 -3.35950007e+06  5.07743820e+05\n",
      "  1.06180124e+06  2.30669072e+06]\n"
     ]
    }
   ],
   "source": [
    "print(y_pred_lasso)"
   ]
  },
  {
   "cell_type": "markdown",
   "id": "96149507",
   "metadata": {},
   "source": [
    "### 1.3. Validation du modèle de prédiction d'énergie sur le jeu de test"
   ]
  },
  {
   "cell_type": "markdown",
   "id": "827637bb",
   "metadata": {},
   "source": [
    "On donne un nom de variable au modèle entraîné:"
   ]
  },
  {
   "cell_type": "code",
   "execution_count": 40,
   "id": "537c900c",
   "metadata": {},
   "outputs": [],
   "source": [
    "final_model_energy = grid.best_estimator_"
   ]
  },
  {
   "cell_type": "code",
   "execution_count": 41,
   "id": "cc8f3307",
   "metadata": {},
   "outputs": [],
   "source": [
    "final_predictions_energy = final_model_energy.predict(X_test)"
   ]
  },
  {
   "cell_type": "code",
   "execution_count": 42,
   "id": "d8b3182a",
   "metadata": {},
   "outputs": [
    {
     "name": "stdout",
     "output_type": "stream",
     "text": [
      "RMSE:  13098199.123200385\n",
      "RMSE/mean:  1.5408380203474923\n",
      "RMSE/median:  5.013707796466629\n",
      "R²:  0.53571\n"
     ]
    }
   ],
   "source": [
    "model_performance(np.array(y_test), final_predictions_energy)"
   ]
  },
  {
   "cell_type": "code",
   "execution_count": 43,
   "id": "dcf87c96",
   "metadata": {},
   "outputs": [
    {
     "data": {
      "image/png": "[encoded data removed]",
      "text/plain": [
       "<Figure size 576x396 with 2 Axes>"
      ]
     },
     "metadata": {},
     "output_type": "display_data"
    }
   ],
   "source": [
    "visualizer = ResidualsPlot(final_model_energy)\n",
    "visualizer.fit(np.array(X_train), np.array(y_train).reshape(X_train.shape[0],))\n",
    "visualizer.score(np.array(X_test), np.array(y_test).reshape(X_test.shape[0],))\n",
    "visualizer.show();"
   ]
  },
  {
   "cell_type": "code",
   "execution_count": 44,
   "id": "b33eb544",
   "metadata": {},
   "outputs": [
    {
     "data": {
      "image/png": "[encoded data removed]",
      "text/plain": [
       "<Figure size 576x396 with 1 Axes>"
      ]
     },
     "metadata": {},
     "output_type": "display_data"
    }
   ],
   "source": [
    "visualizer = prediction_error(final_model_energy, np.array(X_train), np.array(y_train), np.array(X_test), np.array(y_test));"
   ]
  },
  {
   "cell_type": "markdown",
   "id": "194f22a1",
   "metadata": {},
   "source": [
    "## 2 - Modelisation des émissions de CO2 (sans ENERGYSTARScore)"
   ]
  },
  {
   "cell_type": "markdown",
   "id": "1a372fd1",
   "metadata": {},
   "source": [
    "### 2.1. Modélisation des émissions de CO2 (sans ENERGYSTARScore) :  choix du modèle"
   ]
  },
  {
   "cell_type": "code",
   "execution_count": 45,
   "id": "c30265b7",
   "metadata": {},
   "outputs": [],
   "source": [
    "TotalGHGEmissions_mean = df_joined_cleaned['TotalGHGEmissions'].mean()"
   ]
  },
  {
   "cell_type": "code",
   "execution_count": 46,
   "id": "06b001a9",
   "metadata": {},
   "outputs": [],
   "source": [
    "TotalGHGEmissions_median = df_joined_cleaned['TotalGHGEmissions'].median()"
   ]
  },
  {
   "cell_type": "code",
   "execution_count": 47,
   "id": "61a3a573",
   "metadata": {},
   "outputs": [],
   "source": [
    "def model_performance_CO2_emissions(y_test, y_pred):\n",
    "\n",
    "    rmse = np.sqrt(mean_squared_error(y_test, y_pred))\n",
    "    rmse_div_mean = rmse / TotalGHGEmissions_mean\n",
    "    rmse_div_median = rmse / TotalGHGEmissions_median\n",
    "    r_score = r2_score(y_test, y_pred, multioutput=\"variance_weighted\")\n",
    "    print(\"RMSE: \", rmse)\n",
    "    print(\"RMSE/mean: \", rmse_div_mean)\n",
    "    print(\"RMSE/median: \", rmse_div_median)\n",
    "    print(\"R²: \", r_score.round(5))"
   ]
  },
  {
   "cell_type": "markdown",
   "id": "397c5398",
   "metadata": {},
   "source": [
    "On créé le jeu d'entraînement et le jeu de test spécifiques aux émissions de CO2 sans l'ENERGYSTAR Score."
   ]
  },
  {
   "cell_type": "code",
   "execution_count": 48,
   "id": "8f7a3323",
   "metadata": {},
   "outputs": [],
   "source": [
    "\n",
    "train_set, test_set = train_test_split(df_joined_cleaned, test_size=0.2, random_state=42, stratify=df_joined_cleaned[\"PrimaryPropertyType\"])\n",
    "\n",
    "y_train_CO2 = train_set[[\"TotalGHGEmissions\"]]\n",
    "y_test_CO2 = test_set[[\"TotalGHGEmissions\"]]\n",
    "X_train_CO2 = train_set.drop([\"SiteEnergyUse(kBtu)\", \"TotalGHGEmissions\"], axis=1)\n",
    "X_test_CO2 = test_set.drop([\"SiteEnergyUse(kBtu)\", \"TotalGHGEmissions\"], axis=1)"
   ]
  },
  {
   "cell_type": "markdown",
   "id": "afe0d5cd",
   "metadata": {},
   "source": [
    "On définit les variables qualitatives et quantitatives nécessaires pour la modélisation des émissions de CO2 sans l'ENERGYSTARScore."
   ]
  },
  {
   "cell_type": "code",
   "execution_count": 49,
   "id": "23ad2f93",
   "metadata": {},
   "outputs": [],
   "source": [
    "quali_var = [\"PrimaryPropertyType\", \"LargestPropertyUseType\"\n",
    "]\n",
    "quanti_var = [\"LargestPropertyUseTypeGFA\",\n",
    " \"NumberofBuildings\",\n",
    " \"NumberofFloors\",\n",
    " \"PropertyGFABuilding(s)\",\n",
    " \"PropertyGFAParking\",\n",
    " \"YearBuilt\"]"
   ]
  },
  {
   "cell_type": "markdown",
   "id": "18e52c5e",
   "metadata": {},
   "source": [
    "On créé le pipeline de transformation."
   ]
  },
  {
   "cell_type": "code",
   "execution_count": 50,
   "id": "b98efe18",
   "metadata": {},
   "outputs": [],
   "source": [
    "from sklearn.compose import ColumnTransformer\n",
    "from sklearn.pipeline import Pipeline\n",
    "\n",
    "quali_pipe = Pipeline([\n",
    "    ('imputer', SimpleImputer(strategy='most_frequent', fill_value='missing')),\n",
    "    ('encoder', OneHotEncoder(handle_unknown='ignore', sparse=False))\n",
    "])\n",
    "\n",
    "quanti_pipe = Pipeline([\n",
    "    ('imputer', SimpleImputer(strategy=\"median\", fill_value=\"missing\")),\n",
    "    ('scaler', StandardScaler())\n",
    "])\n",
    "\n",
    "preprocessor = ColumnTransformer(\n",
    "    transformers=[\n",
    "    ('qualitative', quali_pipe, quali_var),\n",
    "    ('quantitative', quanti_pipe, quanti_var)\n",
    "])"
   ]
  },
  {
   "cell_type": "markdown",
   "id": "6a5a795c",
   "metadata": {},
   "source": [
    "On transforme les variables"
   ]
  },
  {
   "cell_type": "code",
   "execution_count": 51,
   "id": "ce8503e0",
   "metadata": {},
   "outputs": [],
   "source": [
    "X_train_CO2 = preprocessor.fit_transform(X_train_CO2)"
   ]
  },
  {
   "cell_type": "code",
   "execution_count": 52,
   "id": "d5afd806",
   "metadata": {},
   "outputs": [
    {
     "data": {
      "text/html": [
       "<style>div.sk-top-container {color: black;background-color: white;}div.sk-toggleable {background-color: white;}label.sk-toggleable__label {cursor: pointer;display: block;width: 100%;margin-bottom: 0;padding: 0.2em 0.3em;box-sizing: border-box;text-align: center;}div.sk-toggleable__content {max-height: 0;max-width: 0;overflow: hidden;text-align: left;background-color: #f0f8ff;}div.sk-toggleable__content pre {margin: 0.2em;color: black;border-radius: 0.25em;background-color: #f0f8ff;}input.sk-toggleable__control:checked~div.sk-toggleable__content {max-height: 200px;max-width: 100%;overflow: auto;}div.sk-estimator input.sk-toggleable__control:checked~label.sk-toggleable__label {background-color: #d4ebff;}div.sk-label input.sk-toggleable__control:checked~label.sk-toggleable__label {background-color: #d4ebff;}input.sk-hidden--visually {border: 0;clip: rect(1px 1px 1px 1px);clip: rect(1px, 1px, 1px, 1px);height: 1px;margin: -1px;overflow: hidden;padding: 0;position: absolute;width: 1px;}div.sk-estimator {font-family: monospace;background-color: #f0f8ff;margin: 0.25em 0.25em;border: 1px dotted black;border-radius: 0.25em;box-sizing: border-box;}div.sk-estimator:hover {background-color: #d4ebff;}div.sk-parallel-item::after {content: \"\";width: 100%;border-bottom: 1px solid gray;flex-grow: 1;}div.sk-label:hover label.sk-toggleable__label {background-color: #d4ebff;}div.sk-serial::before {content: \"\";position: absolute;border-left: 1px solid gray;box-sizing: border-box;top: 2em;bottom: 0;left: 50%;}div.sk-serial {display: flex;flex-direction: column;align-items: center;background-color: white;}div.sk-item {z-index: 1;}div.sk-parallel {display: flex;align-items: stretch;justify-content: center;background-color: white;}div.sk-parallel-item {display: flex;flex-direction: column;position: relative;background-color: white;}div.sk-parallel-item:first-child::after {align-self: flex-end;width: 50%;}div.sk-parallel-item:last-child::after {align-self: flex-start;width: 50%;}div.sk-parallel-item:only-child::after {width: 0;}div.sk-dashed-wrapped {border: 1px dashed gray;margin: 0.2em;box-sizing: border-box;padding-bottom: 0.1em;background-color: white;position: relative;}div.sk-label label {font-family: monospace;font-weight: bold;background-color: white;display: inline-block;line-height: 1.2em;}div.sk-label-container {position: relative;z-index: 2;text-align: center;}div.sk-container {display: inline-block;position: relative;}</style><div class=\"sk-top-container\"><div class=\"sk-container\"><div class=\"sk-item\"><div class=\"sk-estimator sk-toggleable\"><input class=\"sk-toggleable__control sk-hidden--visually\" id=\"ec2a9e8b-cb10-4d43-b6d6-ecb6db876e03\" type=\"checkbox\" checked><label class=\"sk-toggleable__label\" for=\"ec2a9e8b-cb10-4d43-b6d6-ecb6db876e03\">DummyRegressor</label><div class=\"sk-toggleable__content\"><pre>DummyRegressor(strategy='median')</pre></div></div></div></div></div>"
      ],
      "text/plain": [
       "DummyRegressor(strategy='median')"
      ]
     },
     "execution_count": 52,
     "metadata": {},
     "output_type": "execute_result"
    }
   ],
   "source": [
    "from sklearn.dummy import DummyRegressor\n",
    "\n",
    "dummy_reg = DummyRegressor(strategy=\"median\")\n",
    "dummy_reg.fit(X_train_CO2, y_train_CO2)"
   ]
  },
  {
   "cell_type": "code",
   "execution_count": 53,
   "id": "9853f603",
   "metadata": {},
   "outputs": [
    {
     "name": "stdout",
     "output_type": "stream",
     "text": [
      "RMSE:  485.4512511373817\n",
      "RMSE/mean:  2.648839825170122\n",
      "RMSE/median:  9.015297852962194\n",
      "R²:  -0.05299\n"
     ]
    }
   ],
   "source": [
    "X_test_CO2 = preprocessor.transform(X_test_CO2)\n",
    "y_pred_CO2 = dummy_reg.predict(X_test_CO2)\n",
    "model_performance_CO2_emissions(np.array(y_test_CO2), y_pred_CO2)"
   ]
  },
  {
   "cell_type": "code",
   "execution_count": 54,
   "id": "7b1b4771",
   "metadata": {},
   "outputs": [],
   "source": [
    "from sklearn.linear_model import Ridge, Lasso, LinearRegression\n",
    "from sklearn.svm import SVR\n",
    "from sklearn.ensemble import RandomForestRegressor, GradientBoostingRegressor\n",
    "import xgboost as xgb\n",
    "\n",
    "dummy_reg = DummyRegressor(strategy=\"median\")\n",
    "lin_reg = LinearRegression()\n",
    "ridge = Ridge(random_state=42)\n",
    "lasso = Lasso(random_state=42)\n",
    "svm_reg = SVR()\n",
    "rdmforest = RandomForestRegressor(random_state=42, n_estimators=500)\n",
    "xgboost = xgb.XGBRegressor(random_state=42)"
   ]
  },
  {
   "cell_type": "markdown",
   "id": "6b4e3966",
   "metadata": {},
   "source": [
    "On effectue les entraînements pour chaque modèle sans optimiser les hyperparamètres."
   ]
  },
  {
   "cell_type": "code",
   "execution_count": 55,
   "id": "e3f1ce8a",
   "metadata": {
    "scrolled": true
   },
   "outputs": [
    {
     "data": {
      "text/html": [
       "<div>\n",
       "<style scoped>\n",
       "    .dataframe tbody tr th:only-of-type {\n",
       "        vertical-align: middle;\n",
       "    }\n",
       "\n",
       "    .dataframe tbody tr th {\n",
       "        vertical-align: top;\n",
       "    }\n",
       "\n",
       "    .dataframe thead th {\n",
       "        text-align: right;\n",
       "    }\n",
       "</style>\n",
       "<table border=\"1\" class=\"dataframe\">\n",
       "  <thead>\n",
       "    <tr style=\"text-align: right;\">\n",
       "      <th></th>\n",
       "      <th>Dummy Regressor</th>\n",
       "      <th>Linear Regression</th>\n",
       "      <th>Ridge</th>\n",
       "      <th>Lasso</th>\n",
       "      <th>SVM</th>\n",
       "      <th>Random Forest</th>\n",
       "      <th>XGBoost</th>\n",
       "      <th>GradientBoostingRegressor</th>\n",
       "    </tr>\n",
       "  </thead>\n",
       "  <tbody>\n",
       "    <tr>\n",
       "      <th>RMSE</th>\n",
       "      <td>485.451000</td>\n",
       "      <td>1.891808e+14</td>\n",
       "      <td>319.838000</td>\n",
       "      <td>311.869000</td>\n",
       "      <td>474.405000</td>\n",
       "      <td>221.953000</td>\n",
       "      <td>460.544000</td>\n",
       "      <td>199.378000</td>\n",
       "    </tr>\n",
       "    <tr>\n",
       "      <th>RMSE/mean</th>\n",
       "      <td>2.648840</td>\n",
       "      <td>1.032256e+12</td>\n",
       "      <td>1.745179</td>\n",
       "      <td>1.701699</td>\n",
       "      <td>2.588565</td>\n",
       "      <td>1.211075</td>\n",
       "      <td>2.512934</td>\n",
       "      <td>1.087897</td>\n",
       "    </tr>\n",
       "    <tr>\n",
       "      <th>RMSE/median</th>\n",
       "      <td>9.015298</td>\n",
       "      <td>3.513271e+12</td>\n",
       "      <td>5.939697</td>\n",
       "      <td>5.791715</td>\n",
       "      <td>8.810152</td>\n",
       "      <td>4.121880</td>\n",
       "      <td>8.552743</td>\n",
       "      <td>3.702644</td>\n",
       "    </tr>\n",
       "    <tr>\n",
       "      <th>R²</th>\n",
       "      <td>-0.053000</td>\n",
       "      <td>-1.599137e+23</td>\n",
       "      <td>0.543000</td>\n",
       "      <td>0.565000</td>\n",
       "      <td>-0.006000</td>\n",
       "      <td>0.780000</td>\n",
       "      <td>0.052000</td>\n",
       "      <td>0.822000</td>\n",
       "    </tr>\n",
       "  </tbody>\n",
       "</table>\n",
       "</div>"
      ],
      "text/plain": [
       "             Dummy Regressor  Linear Regression       Ridge       Lasso  \\\n",
       "RMSE              485.451000       1.891808e+14  319.838000  311.869000   \n",
       "RMSE/mean           2.648840       1.032256e+12    1.745179    1.701699   \n",
       "RMSE/median         9.015298       3.513271e+12    5.939697    5.791715   \n",
       "R²                 -0.053000      -1.599137e+23    0.543000    0.565000   \n",
       "\n",
       "                    SVM  Random Forest     XGBoost  GradientBoostingRegressor  \n",
       "RMSE         474.405000     221.953000  460.544000                 199.378000  \n",
       "RMSE/mean      2.588565       1.211075    2.512934                   1.087897  \n",
       "RMSE/median    8.810152       4.121880    8.552743                   3.702644  \n",
       "R²            -0.006000       0.780000    0.052000                   0.822000  "
      ]
     },
     "execution_count": 55,
     "metadata": {},
     "output_type": "execute_result"
    }
   ],
   "source": [
    "model = [dummy_reg, lin_reg, ridge, lasso, svm_reg, rdmforest, xgboost, GradientBoostingRegressor()]\n",
    "dict_model = {}\n",
    "\n",
    "for model in model:\n",
    "    model.fit(X_train_CO2, y_train_CO2.values.ravel())\n",
    "    y_pred_CO2 = model.predict(X_test_CO2)\n",
    "    rmse = np.sqrt(mean_squared_error(y_test_CO2, y_pred_CO2))\n",
    "    rmse_div_mean = rmse / TotalGHGEmissions_mean\n",
    "    rmse_div_median = rmse / TotalGHGEmissions_median\n",
    "    r_score = r2_score(y_test_CO2, y_pred_CO2, multioutput=\"variance_weighted\").round(3)\n",
    "    dict_model[model] = (rmse.round(3), rmse_div_mean, rmse_div_median, r_score)\n",
    "\n",
    "eval_model = pd.DataFrame(dict_model, index=[\"RMSE\", \"RMSE/mean\", \"RMSE/median\",  \"R²\"])\n",
    "eval_model.columns = [\"Dummy Regressor\", \"Linear Regression\", \"Ridge\", \"Lasso\", \"SVM\", \"Random Forest\", \"XGBoost\", \"GradientBoostingRegressor\"]\n",
    "\n",
    "eval_model"
   ]
  },
  {
   "cell_type": "markdown",
   "id": "d69d60ed",
   "metadata": {},
   "source": [
    "GradientBoostingRegressor donne le meilleur résultat."
   ]
  },
  {
   "cell_type": "markdown",
   "id": "40da6826",
   "metadata": {},
   "source": [
    "### 2.2. Modélisation des émissions de CO2 (sans ENERGYSTARScore) :  choix des hyperparamètres"
   ]
  },
  {
   "cell_type": "code",
   "execution_count": 56,
   "id": "8aedc670",
   "metadata": {},
   "outputs": [],
   "source": [
    "from sklearn import datasets\n",
    "from sklearn.model_selection import GridSearchCV\n",
    "from sklearn.ensemble import GradientBoostingRegressor\n",
    "import numpy as np"
   ]
  },
  {
   "cell_type": "code",
   "execution_count": 57,
   "id": "ee16af8a",
   "metadata": {},
   "outputs": [],
   "source": [
    "GBR = GradientBoostingRegressor()"
   ]
  },
  {
   "cell_type": "code",
   "execution_count": 58,
   "id": "0addb871",
   "metadata": {},
   "outputs": [
    {
     "name": "stdout",
     "output_type": "stream",
     "text": [
      "Fitting 5 folds for each of 384 candidates, totalling 1920 fits\n"
     ]
    },
    {
     "name": "stderr",
     "output_type": "stream",
     "text": [
      "/Users/moninechan/opt/anaconda3/lib/python3.8/site-packages/sklearn/model_selection/_search.py:918: UserWarning: One or more of the test scores are non-finite: [            nan             nan             nan             nan\n",
      "             nan             nan  3.06086056e-02  1.31622923e-01\n",
      "  4.32769033e-01  4.54535751e-01  3.99444097e-01  3.56725959e-01\n",
      " -2.52966071e-03  8.15821570e-02  3.65065401e-01  2.75557360e-01\n",
      "  3.99862983e-01  3.21000601e-01 -3.14696885e-03  9.99897832e-02\n",
      "  3.03891623e-01  3.31966026e-01  3.74524258e-01  1.32428982e-01\n",
      "             nan             nan             nan             nan\n",
      "             nan             nan  4.19554327e-04  4.34810835e-02\n",
      "  3.45285763e-01  4.02178500e-01  3.76492219e-01  2.20568817e-01\n",
      " -7.62945623e-03  5.75682489e-02  3.78915689e-01  4.39237892e-01\n",
      "  2.98633147e-01  2.70161559e-01  2.12986694e-04  2.60698024e-02\n",
      "  2.61509158e-01  4.42735624e-01  4.06715039e-01  2.50966977e-01\n",
      "             nan             nan             nan             nan\n",
      "             nan             nan -5.69371387e-03  2.69722624e-02\n",
      "  2.21640559e-01  3.93342343e-01  3.54100328e-01  2.54389967e-01\n",
      "  6.31872626e-03  1.03691423e-02  2.42094387e-01  4.35157625e-01\n",
      "  3.07247352e-01  2.94454164e-01 -7.68947461e-03  3.62698949e-02\n",
      "  2.46193519e-01  4.02259819e-01  3.32749694e-01  2.41934263e-01\n",
      "             nan             nan             nan             nan\n",
      "             nan             nan -5.46844591e-04  2.03237987e-02\n",
      "  1.35880176e-01  3.29452917e-01  3.33474557e-01  3.00291901e-01\n",
      "  2.15605398e-03  1.72033249e-02  1.30585070e-01  3.24073106e-01\n",
      "  3.35028005e-01  2.81249130e-01 -7.70586744e-03  3.74466240e-02\n",
      "  1.00188977e-01  3.35459012e-01  3.47904571e-01  2.91457622e-01\n",
      "             nan             nan             nan             nan\n",
      "             nan             nan  2.27003551e-02  2.79383557e-01\n",
      "  4.54111621e-01  2.87867725e-01  3.13458043e-01  4.22781319e-01\n",
      "  4.22735452e-02  2.66656028e-01  4.32723644e-01  3.47774274e-01\n",
      "  2.90086129e-01  3.37865796e-01  5.98545057e-02  2.90962646e-01\n",
      "  3.47125347e-01  2.24874111e-01  2.24220193e-01  2.89232662e-01\n",
      "             nan             nan             nan             nan\n",
      "             nan             nan  2.74274209e-02  2.98966583e-01\n",
      "  3.59450000e-01  2.14827194e-01  3.11772555e-01  2.13130475e-01\n",
      "  5.10026486e-02  2.66527936e-01  4.04293143e-01  2.46687174e-01\n",
      "  2.59483394e-01  2.82882820e-01  2.72184952e-02  2.66830223e-01\n",
      "  4.24949530e-01  3.18024319e-01  2.94829252e-01  2.51546858e-01\n",
      "             nan             nan             nan             nan\n",
      "             nan             nan  4.38271806e-02  2.29324248e-01\n",
      "  3.80465932e-01  3.36355082e-01  2.56497192e-01  2.49732180e-01\n",
      "  2.73251639e-02  2.33623297e-01  3.66047041e-01  3.18780262e-01\n",
      "  2.79558974e-01  2.57928410e-01  3.25238064e-02  2.49654470e-01\n",
      "  3.45225427e-01  2.81141505e-01  2.30693627e-01  1.93303338e-01\n",
      "             nan             nan             nan             nan\n",
      "             nan             nan  1.53378417e-02  1.58538608e-01\n",
      "  3.39658886e-01  2.26895849e-01  1.45949767e-01  4.67032777e-02\n",
      "  1.60047016e-03  1.86872732e-01  3.60954743e-01  2.26611935e-01\n",
      "  1.29317294e-01  8.37515587e-02  3.29166742e-02  1.61208306e-01\n",
      "  3.46387617e-01  2.13176142e-01  1.29233488e-01  3.71994946e-02\n",
      "             nan             nan             nan             nan\n",
      "             nan             nan  5.41769699e-02  4.03119559e-01\n",
      "  4.03414114e-01  2.53118627e-01  3.77020067e-01  3.31221875e-01\n",
      "  6.60744430e-02  3.39983194e-01  3.29879039e-01  2.60300781e-01\n",
      "  2.94838900e-01  3.11994165e-01  4.77942076e-02  2.78583215e-01\n",
      "  4.26730877e-01  2.64853937e-01  1.89723905e-01  1.62713529e-01\n",
      "             nan             nan             nan             nan\n",
      "             nan             nan  8.12736423e-02  3.44173854e-01\n",
      "  2.82448080e-01  1.98933722e-01  2.61289874e-01  1.78334971e-01\n",
      "  4.66842064e-02  2.91309392e-01  3.35340184e-01  1.73004854e-01\n",
      "  2.14308502e-01  2.37159260e-01  7.63040289e-02  2.88294065e-01\n",
      "  3.64661179e-01  2.70757736e-01  2.86772207e-01  2.71117930e-01\n",
      "             nan             nan             nan             nan\n",
      "             nan             nan  7.46381048e-02  2.92476116e-01\n",
      "  2.89381649e-01  2.88101631e-01  2.44267508e-01  2.45802619e-01\n",
      "  4.87660229e-02  3.24502414e-01  3.20945720e-01  2.74849336e-01\n",
      "  2.72382917e-01  2.47668789e-01  3.90770729e-02  2.80326145e-01\n",
      "  3.73389317e-01  2.31950757e-01  2.15826650e-01  2.03779478e-01\n",
      "             nan             nan             nan             nan\n",
      "             nan             nan  3.58393767e-02  2.19831492e-01\n",
      "  3.30385704e-01  1.55901519e-01  8.05473620e-02 -8.07508643e-03\n",
      "  2.80836646e-02  2.02621754e-01  3.27497579e-01  1.80980796e-01\n",
      "  7.58930643e-02 -8.00519917e-02  2.16082965e-02  2.48257264e-01\n",
      "  3.27781367e-01  1.76875100e-01  7.19165247e-02 -4.96497390e-02\n",
      "             nan             nan             nan             nan\n",
      "             nan             nan  7.39549087e-02  4.17329418e-01\n",
      "  1.65651466e-01  1.12222509e-01  1.77179220e-01  2.96776502e-01\n",
      "  5.37737729e-02  2.94169665e-01 -2.84070396e-02  1.64347452e-01\n",
      "  4.66581921e-02  2.22986304e-01  5.05498887e-02  2.56642088e-01\n",
      "  1.39380831e-01  8.70785809e-02 -9.03457320e-02  2.74872229e-02\n",
      "             nan             nan             nan             nan\n",
      "             nan             nan  8.19685188e-02  3.40589619e-01\n",
      "  7.52451663e-02  1.22264219e-01  4.27250215e-02  1.45777045e-01\n",
      "  7.05546122e-02  3.25076753e-01  1.47398429e-01  1.23888495e-01\n",
      "  9.05931605e-02  8.77005161e-02  6.43074297e-02  3.14915919e-01\n",
      "  2.55919625e-01  1.20098456e-01  1.29394188e-01  9.94196599e-02\n",
      "             nan             nan             nan             nan\n",
      "             nan             nan  7.99760851e-02  3.43896308e-01\n",
      "  2.64885407e-01  2.49074326e-01  2.33958993e-01  2.08193704e-01\n",
      "  7.98167413e-02  3.21117261e-01  3.33850605e-01  2.37302534e-01\n",
      "  1.90291768e-01  1.49753896e-01  6.67686787e-02  3.28711113e-01\n",
      "  3.18965880e-01 -6.31318616e-02 -7.67111770e-03 -9.41394290e-02\n",
      "             nan             nan             nan             nan\n",
      "             nan             nan  4.14931046e-02  2.52037441e-01\n",
      "  3.17314877e-01  1.04851100e-01  1.53901719e-02 -1.35408154e-01\n",
      "  4.57821365e-02  2.50576560e-01  3.12492096e-01  9.45604248e-02\n",
      " -7.78204741e-03 -1.58461295e-01  4.89376227e-02  2.49311014e-01\n",
      "  3.11633554e-01  9.91285146e-02 -1.07024260e-02 -1.60025129e-01]\n",
      "  warnings.warn(\n"
     ]
    },
    {
     "data": {
      "text/html": [
       "<style>div.sk-top-container {color: black;background-color: white;}div.sk-toggleable {background-color: white;}label.sk-toggleable__label {cursor: pointer;display: block;width: 100%;margin-bottom: 0;padding: 0.2em 0.3em;box-sizing: border-box;text-align: center;}div.sk-toggleable__content {max-height: 0;max-width: 0;overflow: hidden;text-align: left;background-color: #f0f8ff;}div.sk-toggleable__content pre {margin: 0.2em;color: black;border-radius: 0.25em;background-color: #f0f8ff;}input.sk-toggleable__control:checked~div.sk-toggleable__content {max-height: 200px;max-width: 100%;overflow: auto;}div.sk-estimator input.sk-toggleable__control:checked~label.sk-toggleable__label {background-color: #d4ebff;}div.sk-label input.sk-toggleable__control:checked~label.sk-toggleable__label {background-color: #d4ebff;}input.sk-hidden--visually {border: 0;clip: rect(1px 1px 1px 1px);clip: rect(1px, 1px, 1px, 1px);height: 1px;margin: -1px;overflow: hidden;padding: 0;position: absolute;width: 1px;}div.sk-estimator {font-family: monospace;background-color: #f0f8ff;margin: 0.25em 0.25em;border: 1px dotted black;border-radius: 0.25em;box-sizing: border-box;}div.sk-estimator:hover {background-color: #d4ebff;}div.sk-parallel-item::after {content: \"\";width: 100%;border-bottom: 1px solid gray;flex-grow: 1;}div.sk-label:hover label.sk-toggleable__label {background-color: #d4ebff;}div.sk-serial::before {content: \"\";position: absolute;border-left: 1px solid gray;box-sizing: border-box;top: 2em;bottom: 0;left: 50%;}div.sk-serial {display: flex;flex-direction: column;align-items: center;background-color: white;}div.sk-item {z-index: 1;}div.sk-parallel {display: flex;align-items: stretch;justify-content: center;background-color: white;}div.sk-parallel-item {display: flex;flex-direction: column;position: relative;background-color: white;}div.sk-parallel-item:first-child::after {align-self: flex-end;width: 50%;}div.sk-parallel-item:last-child::after {align-self: flex-start;width: 50%;}div.sk-parallel-item:only-child::after {width: 0;}div.sk-dashed-wrapped {border: 1px dashed gray;margin: 0.2em;box-sizing: border-box;padding-bottom: 0.1em;background-color: white;position: relative;}div.sk-label label {font-family: monospace;font-weight: bold;background-color: white;display: inline-block;line-height: 1.2em;}div.sk-label-container {position: relative;z-index: 2;text-align: center;}div.sk-container {display: inline-block;position: relative;}</style><div class=\"sk-top-container\"><div class=\"sk-container\"><div class=\"sk-item sk-dashed-wrapped\"><div class=\"sk-label-container\"><div class=\"sk-label sk-toggleable\"><input class=\"sk-toggleable__control sk-hidden--visually\" id=\"ac12612f-40d7-49b5-b0e2-2c7309097171\" type=\"checkbox\" ><label class=\"sk-toggleable__label\" for=\"ac12612f-40d7-49b5-b0e2-2c7309097171\">GridSearchCV</label><div class=\"sk-toggleable__content\"><pre>GridSearchCV(estimator=GradientBoostingRegressor(), n_jobs=5,\n",
       "             param_grid=[{'max_features': [1, 10, 20, 50],\n",
       "                          'min_samples_leaf': [1, 5, 10, 50],\n",
       "                          'min_samples_split': [1, 10, 20, 50],\n",
       "                          'n_estimators': [1, 10, 100, 1000, 2000, 5000]}],\n",
       "             verbose=5)</pre></div></div></div><div class=\"sk-parallel\"><div class=\"sk-parallel-item\"><div class=\"sk-item\"><div class=\"sk-serial\"><div class=\"sk-item\"><div class=\"sk-estimator sk-toggleable\"><input class=\"sk-toggleable__control sk-hidden--visually\" id=\"bd52f5cf-a3d4-4f03-be16-3732934205ab\" type=\"checkbox\" ><label class=\"sk-toggleable__label\" for=\"bd52f5cf-a3d4-4f03-be16-3732934205ab\">GradientBoostingRegressor</label><div class=\"sk-toggleable__content\"><pre>GradientBoostingRegressor()</pre></div></div></div></div></div></div></div></div></div></div>"
      ],
      "text/plain": [
       "GridSearchCV(estimator=GradientBoostingRegressor(), n_jobs=5,\n",
       "             param_grid=[{'max_features': [1, 10, 20, 50],\n",
       "                          'min_samples_leaf': [1, 5, 10, 50],\n",
       "                          'min_samples_split': [1, 10, 20, 50],\n",
       "                          'n_estimators': [1, 10, 100, 1000, 2000, 5000]}],\n",
       "             verbose=5)"
      ]
     },
     "execution_count": 58,
     "metadata": {},
     "output_type": "execute_result"
    }
   ],
   "source": [
    "from sklearn.model_selection import GridSearchCV\n",
    "\n",
    "params = [{\"max_features\" : [1, 10, 20, 50],\n",
    "           \"min_samples_split\": [1, 10, 20, 50],\n",
    "           \"min_samples_leaf\" : [1, 5, 10, 50],\n",
    "           \"n_estimators\" : [1, 10, 100, 1000, 2000, 5000]\n",
    "}]\n",
    "\n",
    "grid_search = GridSearchCV(estimator=GBR, param_grid=params, verbose = 5, n_jobs = 5)\n",
    "grid_search.fit(X_train_CO2, y_train_CO2.values.ravel())"
   ]
  },
  {
   "cell_type": "code",
   "execution_count": 59,
   "id": "4985da7a",
   "metadata": {},
   "outputs": [],
   "source": [
    "best_grid_CO2_emissions = grid_search.best_estimator_"
   ]
  },
  {
   "cell_type": "code",
   "execution_count": 60,
   "id": "30c9e05e",
   "metadata": {
    "scrolled": true
   },
   "outputs": [
    {
     "data": {
      "text/html": [
       "<style>div.sk-top-container {color: black;background-color: white;}div.sk-toggleable {background-color: white;}label.sk-toggleable__label {cursor: pointer;display: block;width: 100%;margin-bottom: 0;padding: 0.2em 0.3em;box-sizing: border-box;text-align: center;}div.sk-toggleable__content {max-height: 0;max-width: 0;overflow: hidden;text-align: left;background-color: #f0f8ff;}div.sk-toggleable__content pre {margin: 0.2em;color: black;border-radius: 0.25em;background-color: #f0f8ff;}input.sk-toggleable__control:checked~div.sk-toggleable__content {max-height: 200px;max-width: 100%;overflow: auto;}div.sk-estimator input.sk-toggleable__control:checked~label.sk-toggleable__label {background-color: #d4ebff;}div.sk-label input.sk-toggleable__control:checked~label.sk-toggleable__label {background-color: #d4ebff;}input.sk-hidden--visually {border: 0;clip: rect(1px 1px 1px 1px);clip: rect(1px, 1px, 1px, 1px);height: 1px;margin: -1px;overflow: hidden;padding: 0;position: absolute;width: 1px;}div.sk-estimator {font-family: monospace;background-color: #f0f8ff;margin: 0.25em 0.25em;border: 1px dotted black;border-radius: 0.25em;box-sizing: border-box;}div.sk-estimator:hover {background-color: #d4ebff;}div.sk-parallel-item::after {content: \"\";width: 100%;border-bottom: 1px solid gray;flex-grow: 1;}div.sk-label:hover label.sk-toggleable__label {background-color: #d4ebff;}div.sk-serial::before {content: \"\";position: absolute;border-left: 1px solid gray;box-sizing: border-box;top: 2em;bottom: 0;left: 50%;}div.sk-serial {display: flex;flex-direction: column;align-items: center;background-color: white;}div.sk-item {z-index: 1;}div.sk-parallel {display: flex;align-items: stretch;justify-content: center;background-color: white;}div.sk-parallel-item {display: flex;flex-direction: column;position: relative;background-color: white;}div.sk-parallel-item:first-child::after {align-self: flex-end;width: 50%;}div.sk-parallel-item:last-child::after {align-self: flex-start;width: 50%;}div.sk-parallel-item:only-child::after {width: 0;}div.sk-dashed-wrapped {border: 1px dashed gray;margin: 0.2em;box-sizing: border-box;padding-bottom: 0.1em;background-color: white;position: relative;}div.sk-label label {font-family: monospace;font-weight: bold;background-color: white;display: inline-block;line-height: 1.2em;}div.sk-label-container {position: relative;z-index: 2;text-align: center;}div.sk-container {display: inline-block;position: relative;}</style><div class=\"sk-top-container\"><div class=\"sk-container\"><div class=\"sk-item\"><div class=\"sk-estimator sk-toggleable\"><input class=\"sk-toggleable__control sk-hidden--visually\" id=\"015c3cd0-31bd-4059-ba1e-a2b78600d712\" type=\"checkbox\" checked><label class=\"sk-toggleable__label\" for=\"015c3cd0-31bd-4059-ba1e-a2b78600d712\">GradientBoostingRegressor</label><div class=\"sk-toggleable__content\"><pre>GradientBoostingRegressor(max_features=1, min_samples_split=10,\n",
       "                          n_estimators=1000)</pre></div></div></div></div></div>"
      ],
      "text/plain": [
       "GradientBoostingRegressor(max_features=1, min_samples_split=10,\n",
       "                          n_estimators=1000)"
      ]
     },
     "execution_count": 60,
     "metadata": {},
     "output_type": "execute_result"
    }
   ],
   "source": [
    "best_grid_CO2_emissions"
   ]
  },
  {
   "cell_type": "code",
   "execution_count": 61,
   "id": "4caa67cb",
   "metadata": {},
   "outputs": [
    {
     "data": {
      "text/plain": [
       "{'max_features': 1,\n",
       " 'min_samples_leaf': 1,\n",
       " 'min_samples_split': 10,\n",
       " 'n_estimators': 1000}"
      ]
     },
     "execution_count": 61,
     "metadata": {},
     "output_type": "execute_result"
    }
   ],
   "source": [
    "grid_search.best_params_"
   ]
  },
  {
   "cell_type": "markdown",
   "id": "7f382eef",
   "metadata": {},
   "source": [
    "### 2.3. Validation du modèle de prédiction d'émissions de CO2 (sans ENERGYSTARScore) sur le jeu de test"
   ]
  },
  {
   "cell_type": "code",
   "execution_count": 62,
   "id": "bc1a0ea5",
   "metadata": {},
   "outputs": [],
   "source": [
    "final_model_CO2_emissions = grid_search.best_estimator_"
   ]
  },
  {
   "cell_type": "code",
   "execution_count": 63,
   "id": "54707a8f",
   "metadata": {},
   "outputs": [],
   "source": [
    "final_predictions_emissions = final_model_CO2_emissions.predict(X_test_CO2)"
   ]
  },
  {
   "cell_type": "code",
   "execution_count": 64,
   "id": "f7f0e1e2",
   "metadata": {},
   "outputs": [
    {
     "name": "stdout",
     "output_type": "stream",
     "text": [
      "RMSE:  229.2171047522251\n",
      "RMSE/mean:  1.2507113623774773\n",
      "RMSE/median:  4.256782668688892\n",
      "R²:  0.76524\n"
     ]
    }
   ],
   "source": [
    "model_performance_CO2_emissions(np.array(y_test_CO2), final_predictions_emissions)"
   ]
  },
  {
   "cell_type": "code",
   "execution_count": 65,
   "id": "f0d6def7",
   "metadata": {
    "scrolled": true
   },
   "outputs": [
    {
     "data": {
      "image/png": "[encoded data removed]",
      "text/plain": [
       "<Figure size 576x396 with 2 Axes>"
      ]
     },
     "metadata": {},
     "output_type": "display_data"
    }
   ],
   "source": [
    "visualizer = ResidualsPlot(final_model_CO2_emissions)\n",
    "visualizer.fit(np.array(X_train_CO2), np.array(y_train_CO2).reshape(y_train_CO2.shape[0],))\n",
    "visualizer.score(np.array(X_test_CO2), np.array(y_test_CO2).reshape(y_test_CO2.shape[0],))\n",
    "visualizer.show();"
   ]
  },
  {
   "cell_type": "code",
   "execution_count": 66,
   "id": "6cb646aa",
   "metadata": {
    "scrolled": true
   },
   "outputs": [
    {
     "data": {
      "image/png": "[encoded data removed]",
      "text/plain": [
       "<Figure size 576x396 with 1 Axes>"
      ]
     },
     "metadata": {},
     "output_type": "display_data"
    }
   ],
   "source": [
    "visualizer = prediction_error(final_model_CO2_emissions, np.array(X_train_CO2), np.array(y_train_CO2), np.array(X_test_CO2), np.array(y_test_CO2));"
   ]
  },
  {
   "cell_type": "markdown",
   "id": "7718273a",
   "metadata": {},
   "source": [
    "<br>"
   ]
  },
  {
   "cell_type": "markdown",
   "id": "3664562b",
   "metadata": {},
   "source": [
    "## 3 - Modelisation des émissions de CO2 (avec ENERGYSTARScore)"
   ]
  },
  {
   "cell_type": "markdown",
   "id": "d1712daf",
   "metadata": {},
   "source": [
    "### 3.1. Modélisation des émissions de CO2 (avec ENERGYSTARScore) : choix du modèle"
   ]
  },
  {
   "cell_type": "markdown",
   "id": "9aa70e09",
   "metadata": {},
   "source": [
    "On créé le jeu d'entraînement et le jeu de test spécifiques aux émissions de CO2 avec l'ENERGYSTAR Score."
   ]
  },
  {
   "cell_type": "code",
   "execution_count": 70,
   "id": "fa545bbd",
   "metadata": {},
   "outputs": [],
   "source": [
    "train_set, test_set = train_test_split(df_joined_cleaned, test_size=0.2, random_state=42, stratify=df_joined_cleaned[\"PrimaryPropertyType\"])\n",
    "\n",
    "y_train_CO2_avec_ENERGYSTARScore = train_set[[\"TotalGHGEmissions\"]]\n",
    "y_test_CO2_avec_ENERGYSTARScore = test_set[[\"TotalGHGEmissions\"]]\n",
    "X_train_CO2_avec_ENERGYSTARScore = train_set.drop([\"SiteEnergyUse(kBtu)\", \"TotalGHGEmissions\"], axis=1)\n",
    "X_test_CO2_avec_ENERGYSTARScore = test_set.drop([\"SiteEnergyUse(kBtu)\", \"TotalGHGEmissions\"], axis=1)"
   ]
  },
  {
   "cell_type": "markdown",
   "id": "695abbfd",
   "metadata": {},
   "source": [
    "On définit les variables qualitatives et quantitatives nécessaires pour la modélisation des émissions de CO2 sans l'ENERGYSTARScore."
   ]
  },
  {
   "cell_type": "code",
   "execution_count": 71,
   "id": "7b595a88",
   "metadata": {},
   "outputs": [],
   "source": [
    "quali_var_CO2_avec_ENERGYSTARScore = [\"PrimaryPropertyType\", \"LargestPropertyUseType\"\n",
    "]\n",
    "quanti_var_CO2_avec_ENERGYSTARScore = [\"LargestPropertyUseTypeGFA\",\n",
    " \"NumberofBuildings\",\n",
    " \"NumberofFloors\",\n",
    " \"PropertyGFABuilding(s)\",\n",
    " \"PropertyGFAParking\",\n",
    " \"YearBuilt\",\n",
    " \"ENERGYSTARScore\"]"
   ]
  },
  {
   "cell_type": "markdown",
   "id": "1a2df1f8",
   "metadata": {},
   "source": [
    "On créé le pipeline de transformation."
   ]
  },
  {
   "cell_type": "code",
   "execution_count": 73,
   "id": "1009980c",
   "metadata": {},
   "outputs": [],
   "source": [
    "from sklearn.compose import ColumnTransformer\n",
    "from sklearn.pipeline import Pipeline\n",
    "\n",
    "quali_var_CO2_avec_ENERGYSTARScore = Pipeline([\n",
    "    ('imputer', SimpleImputer(strategy='most_frequent', fill_value='missing')),\n",
    "    ('encoder', OneHotEncoder(handle_unknown='ignore', sparse=False))\n",
    "])\n",
    "\n",
    "quanti_var_CO2_avec_ENERGYSTARScore = Pipeline([\n",
    "    ('imputer', SimpleImputer(strategy=\"median\", fill_value=\"missing\")),\n",
    "    ('scaler', StandardScaler())\n",
    "])\n",
    "\n",
    "preprocessor = ColumnTransformer(\n",
    "    transformers=[\n",
    "    ('qualitative', quali_pipe, quali_var),\n",
    "    ('quantitative', quanti_pipe, quanti_var)\n",
    "])"
   ]
  },
  {
   "cell_type": "markdown",
   "id": "deeffa5d",
   "metadata": {},
   "source": [
    "On transforme les variables."
   ]
  },
  {
   "cell_type": "code",
   "execution_count": 74,
   "id": "11b44018",
   "metadata": {},
   "outputs": [],
   "source": [
    "X_train_CO2_avec_ENERGYSTARScore = preprocessor.fit_transform(X_train_CO2_avec_ENERGYSTARScore)"
   ]
  },
  {
   "cell_type": "code",
   "execution_count": 75,
   "id": "322c463c",
   "metadata": {},
   "outputs": [
    {
     "data": {
      "text/html": [
       "<style>div.sk-top-container {color: black;background-color: white;}div.sk-toggleable {background-color: white;}label.sk-toggleable__label {cursor: pointer;display: block;width: 100%;margin-bottom: 0;padding: 0.2em 0.3em;box-sizing: border-box;text-align: center;}div.sk-toggleable__content {max-height: 0;max-width: 0;overflow: hidden;text-align: left;background-color: #f0f8ff;}div.sk-toggleable__content pre {margin: 0.2em;color: black;border-radius: 0.25em;background-color: #f0f8ff;}input.sk-toggleable__control:checked~div.sk-toggleable__content {max-height: 200px;max-width: 100%;overflow: auto;}div.sk-estimator input.sk-toggleable__control:checked~label.sk-toggleable__label {background-color: #d4ebff;}div.sk-label input.sk-toggleable__control:checked~label.sk-toggleable__label {background-color: #d4ebff;}input.sk-hidden--visually {border: 0;clip: rect(1px 1px 1px 1px);clip: rect(1px, 1px, 1px, 1px);height: 1px;margin: -1px;overflow: hidden;padding: 0;position: absolute;width: 1px;}div.sk-estimator {font-family: monospace;background-color: #f0f8ff;margin: 0.25em 0.25em;border: 1px dotted black;border-radius: 0.25em;box-sizing: border-box;}div.sk-estimator:hover {background-color: #d4ebff;}div.sk-parallel-item::after {content: \"\";width: 100%;border-bottom: 1px solid gray;flex-grow: 1;}div.sk-label:hover label.sk-toggleable__label {background-color: #d4ebff;}div.sk-serial::before {content: \"\";position: absolute;border-left: 1px solid gray;box-sizing: border-box;top: 2em;bottom: 0;left: 50%;}div.sk-serial {display: flex;flex-direction: column;align-items: center;background-color: white;}div.sk-item {z-index: 1;}div.sk-parallel {display: flex;align-items: stretch;justify-content: center;background-color: white;}div.sk-parallel-item {display: flex;flex-direction: column;position: relative;background-color: white;}div.sk-parallel-item:first-child::after {align-self: flex-end;width: 50%;}div.sk-parallel-item:last-child::after {align-self: flex-start;width: 50%;}div.sk-parallel-item:only-child::after {width: 0;}div.sk-dashed-wrapped {border: 1px dashed gray;margin: 0.2em;box-sizing: border-box;padding-bottom: 0.1em;background-color: white;position: relative;}div.sk-label label {font-family: monospace;font-weight: bold;background-color: white;display: inline-block;line-height: 1.2em;}div.sk-label-container {position: relative;z-index: 2;text-align: center;}div.sk-container {display: inline-block;position: relative;}</style><div class=\"sk-top-container\"><div class=\"sk-container\"><div class=\"sk-item\"><div class=\"sk-estimator sk-toggleable\"><input class=\"sk-toggleable__control sk-hidden--visually\" id=\"6afdb2fc-c902-4148-be41-933f90332a51\" type=\"checkbox\" checked><label class=\"sk-toggleable__label\" for=\"6afdb2fc-c902-4148-be41-933f90332a51\">DummyRegressor</label><div class=\"sk-toggleable__content\"><pre>DummyRegressor(strategy='median')</pre></div></div></div></div></div>"
      ],
      "text/plain": [
       "DummyRegressor(strategy='median')"
      ]
     },
     "execution_count": 75,
     "metadata": {},
     "output_type": "execute_result"
    }
   ],
   "source": [
    "from sklearn.dummy import DummyRegressor\n",
    "\n",
    "dummy_reg = DummyRegressor(strategy=\"median\")\n",
    "dummy_reg.fit(X_train_CO2_avec_ENERGYSTARScore, y_train_CO2_avec_ENERGYSTARScore)"
   ]
  },
  {
   "cell_type": "code",
   "execution_count": 76,
   "id": "7fdfd74d",
   "metadata": {},
   "outputs": [
    {
     "name": "stdout",
     "output_type": "stream",
     "text": [
      "RMSE:  485.4512511373817\n",
      "RMSE/mean:  2.648839825170122\n",
      "RMSE/median:  9.015297852962194\n",
      "R²:  -0.05299\n"
     ]
    }
   ],
   "source": [
    "X_test_CO2_avec_ENERGYSTARScore = preprocessor.transform(X_test_CO2_avec_ENERGYSTARScore)\n",
    "y_pred_CO2_avec_ENERGYSTARScore = dummy_reg.predict(X_test_CO2_avec_ENERGYSTARScore)\n",
    "model_performance_CO2_emissions(np.array(y_test_CO2_avec_ENERGYSTARScore), y_pred_CO2_avec_ENERGYSTARScore)"
   ]
  },
  {
   "cell_type": "code",
   "execution_count": 77,
   "id": "cbcd1ac3",
   "metadata": {},
   "outputs": [],
   "source": [
    "from sklearn.linear_model import Ridge, Lasso, LinearRegression\n",
    "from sklearn.svm import SVR\n",
    "from sklearn.ensemble import RandomForestRegressor, GradientBoostingRegressor\n",
    "import xgboost as xgb\n",
    "\n",
    "dummy_reg = DummyRegressor(strategy=\"median\")\n",
    "lin_reg = LinearRegression()\n",
    "ridge = Ridge(random_state=42)\n",
    "lasso = Lasso(random_state=42)\n",
    "svm_reg = SVR()\n",
    "rdmforest = RandomForestRegressor(random_state=42, n_estimators=500)\n",
    "xgboost = xgb.XGBRegressor(random_state=42)"
   ]
  },
  {
   "cell_type": "markdown",
   "id": "30a45bf3",
   "metadata": {},
   "source": [
    "On effectue les entraînements pour chaque modèle sans optimiser les hyperparamètres."
   ]
  },
  {
   "cell_type": "code",
   "execution_count": 78,
   "id": "43af768a",
   "metadata": {},
   "outputs": [
    {
     "data": {
      "text/html": [
       "<div>\n",
       "<style scoped>\n",
       "    .dataframe tbody tr th:only-of-type {\n",
       "        vertical-align: middle;\n",
       "    }\n",
       "\n",
       "    .dataframe tbody tr th {\n",
       "        vertical-align: top;\n",
       "    }\n",
       "\n",
       "    .dataframe thead th {\n",
       "        text-align: right;\n",
       "    }\n",
       "</style>\n",
       "<table border=\"1\" class=\"dataframe\">\n",
       "  <thead>\n",
       "    <tr style=\"text-align: right;\">\n",
       "      <th></th>\n",
       "      <th>Dummy Regressor</th>\n",
       "      <th>Linear Regression</th>\n",
       "      <th>Ridge</th>\n",
       "      <th>Lasso</th>\n",
       "      <th>SVM</th>\n",
       "      <th>Random Forest</th>\n",
       "      <th>XGBoost</th>\n",
       "      <th>GradientBoostingRegressor</th>\n",
       "    </tr>\n",
       "  </thead>\n",
       "  <tbody>\n",
       "    <tr>\n",
       "      <th>RMSE</th>\n",
       "      <td>485.451000</td>\n",
       "      <td>1.891808e+14</td>\n",
       "      <td>319.838000</td>\n",
       "      <td>311.869000</td>\n",
       "      <td>474.405000</td>\n",
       "      <td>221.953000</td>\n",
       "      <td>460.544000</td>\n",
       "      <td>198.746000</td>\n",
       "    </tr>\n",
       "    <tr>\n",
       "      <th>RMSE/mean</th>\n",
       "      <td>2.648840</td>\n",
       "      <td>1.032256e+12</td>\n",
       "      <td>1.745179</td>\n",
       "      <td>1.701699</td>\n",
       "      <td>2.588565</td>\n",
       "      <td>1.211075</td>\n",
       "      <td>2.512934</td>\n",
       "      <td>1.084449</td>\n",
       "    </tr>\n",
       "    <tr>\n",
       "      <th>RMSE/median</th>\n",
       "      <td>9.015298</td>\n",
       "      <td>3.513271e+12</td>\n",
       "      <td>5.939697</td>\n",
       "      <td>5.791715</td>\n",
       "      <td>8.810152</td>\n",
       "      <td>4.121880</td>\n",
       "      <td>8.552743</td>\n",
       "      <td>3.690911</td>\n",
       "    </tr>\n",
       "    <tr>\n",
       "      <th>R²</th>\n",
       "      <td>-0.053000</td>\n",
       "      <td>-1.599137e+23</td>\n",
       "      <td>0.543000</td>\n",
       "      <td>0.565000</td>\n",
       "      <td>-0.006000</td>\n",
       "      <td>0.780000</td>\n",
       "      <td>0.052000</td>\n",
       "      <td>0.824000</td>\n",
       "    </tr>\n",
       "  </tbody>\n",
       "</table>\n",
       "</div>"
      ],
      "text/plain": [
       "             Dummy Regressor  Linear Regression       Ridge       Lasso  \\\n",
       "RMSE              485.451000       1.891808e+14  319.838000  311.869000   \n",
       "RMSE/mean           2.648840       1.032256e+12    1.745179    1.701699   \n",
       "RMSE/median         9.015298       3.513271e+12    5.939697    5.791715   \n",
       "R²                 -0.053000      -1.599137e+23    0.543000    0.565000   \n",
       "\n",
       "                    SVM  Random Forest     XGBoost  GradientBoostingRegressor  \n",
       "RMSE         474.405000     221.953000  460.544000                 198.746000  \n",
       "RMSE/mean      2.588565       1.211075    2.512934                   1.084449  \n",
       "RMSE/median    8.810152       4.121880    8.552743                   3.690911  \n",
       "R²            -0.006000       0.780000    0.052000                   0.824000  "
      ]
     },
     "execution_count": 78,
     "metadata": {},
     "output_type": "execute_result"
    }
   ],
   "source": [
    "model = [dummy_reg, lin_reg, ridge, lasso, svm_reg, rdmforest, xgboost, GradientBoostingRegressor()]\n",
    "dict_model = {}\n",
    "\n",
    "for model in model:\n",
    "    model.fit(X_train_CO2_avec_ENERGYSTARScore, y_train_CO2_avec_ENERGYSTARScore.values.ravel())\n",
    "    y_pred_CO2_avec_ENERGYSTARScore = model.predict(X_test_CO2_avec_ENERGYSTARScore)\n",
    "    rmse = np.sqrt(mean_squared_error(y_test_CO2_avec_ENERGYSTARScore, y_pred_CO2_avec_ENERGYSTARScore))\n",
    "    rmse_div_mean = rmse / TotalGHGEmissions_mean\n",
    "    rmse_div_median = rmse / TotalGHGEmissions_median\n",
    "    r_score = r2_score(y_test_CO2_avec_ENERGYSTARScore, y_pred_CO2_avec_ENERGYSTARScore, multioutput=\"variance_weighted\").round(3)\n",
    "    dict_model[model] = (rmse.round(3), rmse_div_mean, rmse_div_median, r_score)\n",
    "\n",
    "eval_model = pd.DataFrame(dict_model, index=[\"RMSE\", \"RMSE/mean\", \"RMSE/median\",  \"R²\"])\n",
    "eval_model.columns = [\"Dummy Regressor\", \"Linear Regression\", \"Ridge\", \"Lasso\", \"SVM\", \"Random Forest\", \"XGBoost\", \"GradientBoostingRegressor\"]\n",
    "\n",
    "eval_model"
   ]
  },
  {
   "cell_type": "markdown",
   "id": "73e644a9",
   "metadata": {},
   "source": [
    "GradientBoostingRegressor donne le meilleur résultat."
   ]
  },
  {
   "cell_type": "markdown",
   "id": "d0c54562",
   "metadata": {},
   "source": [
    "### 3.2. Modélisation des émissions de CO2 (sans ENERGYSTARScore) : choix des hyperparamètres"
   ]
  },
  {
   "cell_type": "code",
   "execution_count": 79,
   "id": "47849a16",
   "metadata": {},
   "outputs": [],
   "source": [
    "from sklearn import datasets\n",
    "from sklearn.model_selection import GridSearchCV\n",
    "from sklearn.ensemble import GradientBoostingRegressor\n",
    "import numpy as np"
   ]
  },
  {
   "cell_type": "code",
   "execution_count": 80,
   "id": "540d2c2d",
   "metadata": {},
   "outputs": [],
   "source": [
    "GBR = GradientBoostingRegressor()"
   ]
  },
  {
   "cell_type": "code",
   "execution_count": 81,
   "id": "c21e8e5e",
   "metadata": {},
   "outputs": [
    {
     "name": "stdout",
     "output_type": "stream",
     "text": [
      "Fitting 5 folds for each of 384 candidates, totalling 1920 fits\n"
     ]
    },
    {
     "name": "stderr",
     "output_type": "stream",
     "text": [
      "/Users/moninechan/opt/anaconda3/lib/python3.8/site-packages/sklearn/model_selection/_search.py:918: UserWarning: One or more of the test scores are non-finite: [        nan         nan         nan         nan         nan         nan\n",
      "  0.02403011  0.09286366  0.41302696  0.39973824  0.17737587  0.37772498\n",
      "  0.0052867   0.08173289  0.33836868  0.38894695  0.34559265  0.37662352\n",
      " -0.00595381  0.08422776  0.34875258  0.42965623  0.38232072  0.21519813\n",
      "         nan         nan         nan         nan         nan         nan\n",
      " -0.00767332  0.04058615  0.35559916  0.4208517   0.29114236  0.3072934\n",
      " -0.00582493  0.03833853  0.22931607  0.40298566  0.33735049  0.23141959\n",
      " -0.00770587  0.03650619  0.26366319  0.47662092  0.41335163  0.30625424\n",
      "         nan         nan         nan         nan         nan         nan\n",
      " -0.00728761  0.05580066  0.18015192  0.4301727   0.3585896   0.26365871\n",
      " -0.0053229   0.05447293  0.22936881  0.40430173  0.35599319  0.26338791\n",
      " -0.0074186   0.03224976  0.17207084  0.37670687  0.35923824  0.26062025\n",
      "         nan         nan         nan         nan         nan         nan\n",
      " -0.00397199  0.01343842  0.13596627  0.33158187  0.34643202  0.2946689\n",
      " -0.00056739  0.01014917  0.14744472  0.32160718  0.33831364  0.28947431\n",
      " -0.00644315  0.00914664  0.1099605   0.31832899  0.34474751  0.30794012\n",
      "         nan         nan         nan         nan         nan         nan\n",
      "  0.04292833  0.31210348  0.3845077   0.34890194  0.41518322  0.33331762\n",
      "  0.02483054  0.2899688   0.19960173  0.31238554  0.3863375   0.36730856\n",
      "  0.05063591  0.25198405  0.3591229   0.05761629  0.19320097  0.25896815\n",
      "         nan         nan         nan         nan         nan         nan\n",
      "  0.034062    0.2713875   0.38006393  0.27904999  0.23145126  0.20620738\n",
      "  0.01810358  0.29617956  0.38651662  0.22902465  0.21706698  0.30286462\n",
      "  0.01249088  0.25745294  0.384439    0.30387231  0.28364714  0.25414234\n",
      "         nan         nan         nan         nan         nan         nan\n",
      "  0.02321926  0.21378179  0.38989659  0.26661725  0.31190401  0.27914834\n",
      "  0.01760543  0.23218508  0.38706051  0.35474245  0.3088419   0.24192769\n",
      "  0.00868781  0.23876537  0.37178906  0.24405012  0.21795335  0.16769623\n",
      "         nan         nan         nan         nan         nan         nan\n",
      "  0.02141207  0.1657794   0.35243327  0.2160929   0.16081148  0.04748227\n",
      "  0.02999944  0.15401015  0.33905861  0.20801281  0.16379441  0.06539587\n",
      "  0.01744423  0.17620831  0.35167225  0.2231694   0.14506086  0.03731413\n",
      "         nan         nan         nan         nan         nan         nan\n",
      "  0.06150199  0.34345993  0.47609214  0.3565184   0.30133184  0.21408314\n",
      "  0.0378307   0.3592152   0.35919699  0.33272788  0.26821596  0.2642817\n",
      "  0.03585487  0.25143362  0.35807367  0.20197046  0.16948389  0.23004116\n",
      "         nan         nan         nan         nan         nan         nan\n",
      "  0.0792157   0.31434311  0.30744718  0.12105109  0.22135828  0.28661611\n",
      "  0.0473866   0.3378381   0.34788302  0.20604388  0.29703461  0.14322264\n",
      "  0.05326741  0.35349204  0.33728555  0.24286241  0.22944814  0.20698764\n",
      "         nan         nan         nan         nan         nan         nan\n",
      "  0.03807646  0.31851207  0.31957005  0.30658857  0.31905104  0.23251533\n",
      "  0.05180684  0.32189019  0.31397394  0.27438118  0.28778     0.30029351\n",
      "  0.04941458  0.29663382  0.29963724  0.24176021  0.22111857  0.16651013\n",
      "         nan         nan         nan         nan         nan         nan\n",
      "  0.03098071  0.22043064  0.33691892  0.14632199  0.08141851 -0.07221015\n",
      "  0.03165159  0.22091137  0.32928282  0.15048999  0.09230825 -0.04160807\n",
      "  0.02928748  0.24505675  0.3230391   0.14745417  0.05583338 -0.05788931\n",
      "         nan         nan         nan         nan         nan         nan\n",
      "  0.10895107  0.33698462  0.25906963  0.24531203  0.03082414  0.32886497\n",
      "  0.06051253  0.30567326  0.19964205  0.06082837  0.00234875  0.02996113\n",
      "  0.04935412  0.28127622  0.12774978 -0.07986225  0.06365863  0.05251548\n",
      "         nan         nan         nan         nan         nan         nan\n",
      "  0.08780092  0.3588777   0.0511608   0.11436184  0.12849231  0.14447647\n",
      "  0.08934455  0.33162365  0.21107128  0.15700843  0.18702668  0.17515421\n",
      "  0.09411408  0.34099488  0.28357602  0.08793552  0.15402659  0.07749075\n",
      "         nan         nan         nan         nan         nan         nan\n",
      "  0.07072961  0.31620242  0.31929154  0.19042609  0.19636887  0.22936374\n",
      "  0.08224215  0.33817972  0.29279478  0.18678355  0.17606011  0.17822713\n",
      "  0.06895633  0.32636116  0.31906779  0.04426265 -0.05801383 -0.04654378\n",
      "         nan         nan         nan         nan         nan         nan\n",
      "  0.03765528  0.25070517  0.32147013  0.12034682 -0.05344593 -0.15922294\n",
      "  0.05076176  0.24385016  0.31714664  0.09350518 -0.01011291 -0.1576583\n",
      "  0.054256    0.23901533  0.32151635  0.0851325   0.00928273 -0.16034305]\n",
      "  warnings.warn(\n"
     ]
    },
    {
     "data": {
      "text/html": [
       "<style>div.sk-top-container {color: black;background-color: white;}div.sk-toggleable {background-color: white;}label.sk-toggleable__label {cursor: pointer;display: block;width: 100%;margin-bottom: 0;padding: 0.2em 0.3em;box-sizing: border-box;text-align: center;}div.sk-toggleable__content {max-height: 0;max-width: 0;overflow: hidden;text-align: left;background-color: #f0f8ff;}div.sk-toggleable__content pre {margin: 0.2em;color: black;border-radius: 0.25em;background-color: #f0f8ff;}input.sk-toggleable__control:checked~div.sk-toggleable__content {max-height: 200px;max-width: 100%;overflow: auto;}div.sk-estimator input.sk-toggleable__control:checked~label.sk-toggleable__label {background-color: #d4ebff;}div.sk-label input.sk-toggleable__control:checked~label.sk-toggleable__label {background-color: #d4ebff;}input.sk-hidden--visually {border: 0;clip: rect(1px 1px 1px 1px);clip: rect(1px, 1px, 1px, 1px);height: 1px;margin: -1px;overflow: hidden;padding: 0;position: absolute;width: 1px;}div.sk-estimator {font-family: monospace;background-color: #f0f8ff;margin: 0.25em 0.25em;border: 1px dotted black;border-radius: 0.25em;box-sizing: border-box;}div.sk-estimator:hover {background-color: #d4ebff;}div.sk-parallel-item::after {content: \"\";width: 100%;border-bottom: 1px solid gray;flex-grow: 1;}div.sk-label:hover label.sk-toggleable__label {background-color: #d4ebff;}div.sk-serial::before {content: \"\";position: absolute;border-left: 1px solid gray;box-sizing: border-box;top: 2em;bottom: 0;left: 50%;}div.sk-serial {display: flex;flex-direction: column;align-items: center;background-color: white;}div.sk-item {z-index: 1;}div.sk-parallel {display: flex;align-items: stretch;justify-content: center;background-color: white;}div.sk-parallel-item {display: flex;flex-direction: column;position: relative;background-color: white;}div.sk-parallel-item:first-child::after {align-self: flex-end;width: 50%;}div.sk-parallel-item:last-child::after {align-self: flex-start;width: 50%;}div.sk-parallel-item:only-child::after {width: 0;}div.sk-dashed-wrapped {border: 1px dashed gray;margin: 0.2em;box-sizing: border-box;padding-bottom: 0.1em;background-color: white;position: relative;}div.sk-label label {font-family: monospace;font-weight: bold;background-color: white;display: inline-block;line-height: 1.2em;}div.sk-label-container {position: relative;z-index: 2;text-align: center;}div.sk-container {display: inline-block;position: relative;}</style><div class=\"sk-top-container\"><div class=\"sk-container\"><div class=\"sk-item sk-dashed-wrapped\"><div class=\"sk-label-container\"><div class=\"sk-label sk-toggleable\"><input class=\"sk-toggleable__control sk-hidden--visually\" id=\"03e030d8-20f3-4f6a-b88c-7465eda448bb\" type=\"checkbox\" ><label class=\"sk-toggleable__label\" for=\"03e030d8-20f3-4f6a-b88c-7465eda448bb\">GridSearchCV</label><div class=\"sk-toggleable__content\"><pre>GridSearchCV(estimator=GradientBoostingRegressor(), n_jobs=5,\n",
       "             param_grid=[{'max_features': [1, 10, 20, 50],\n",
       "                          'min_samples_leaf': [1, 5, 10, 50],\n",
       "                          'min_samples_split': [1, 10, 20, 50],\n",
       "                          'n_estimators': [1, 10, 100, 1000, 2000, 5000]}],\n",
       "             verbose=5)</pre></div></div></div><div class=\"sk-parallel\"><div class=\"sk-parallel-item\"><div class=\"sk-item\"><div class=\"sk-serial\"><div class=\"sk-item\"><div class=\"sk-estimator sk-toggleable\"><input class=\"sk-toggleable__control sk-hidden--visually\" id=\"c300defb-bbd6-49ed-87ad-7dae79bbb1ae\" type=\"checkbox\" ><label class=\"sk-toggleable__label\" for=\"c300defb-bbd6-49ed-87ad-7dae79bbb1ae\">GradientBoostingRegressor</label><div class=\"sk-toggleable__content\"><pre>GradientBoostingRegressor()</pre></div></div></div></div></div></div></div></div></div></div>"
      ],
      "text/plain": [
       "GridSearchCV(estimator=GradientBoostingRegressor(), n_jobs=5,\n",
       "             param_grid=[{'max_features': [1, 10, 20, 50],\n",
       "                          'min_samples_leaf': [1, 5, 10, 50],\n",
       "                          'min_samples_split': [1, 10, 20, 50],\n",
       "                          'n_estimators': [1, 10, 100, 1000, 2000, 5000]}],\n",
       "             verbose=5)"
      ]
     },
     "execution_count": 81,
     "metadata": {},
     "output_type": "execute_result"
    }
   ],
   "source": [
    "from sklearn.model_selection import GridSearchCV\n",
    "\n",
    "params = [{\"max_features\" : [1, 10, 20, 50],\n",
    "           \"min_samples_split\": [1, 10, 20, 50],\n",
    "           \"min_samples_leaf\" : [1, 5, 10, 50],\n",
    "           \"n_estimators\" : [1, 10, 100, 1000, 2000, 5000]\n",
    "}]\n",
    "\n",
    "grid_search = GridSearchCV(estimator=GBR, param_grid=params, verbose = 5, n_jobs = 5)\n",
    "grid_search.fit(X_train_CO2_avec_ENERGYSTARScore, y_train_CO2_avec_ENERGYSTARScore.values.ravel())"
   ]
  },
  {
   "cell_type": "code",
   "execution_count": 82,
   "id": "878804ba",
   "metadata": {},
   "outputs": [],
   "source": [
    "best_grid_CO2_emissions_avec_ENERGYSTARScore = grid_search.best_estimator_"
   ]
  },
  {
   "cell_type": "code",
   "execution_count": 83,
   "id": "71a45327",
   "metadata": {},
   "outputs": [
    {
     "data": {
      "text/html": [
       "<style>div.sk-top-container {color: black;background-color: white;}div.sk-toggleable {background-color: white;}label.sk-toggleable__label {cursor: pointer;display: block;width: 100%;margin-bottom: 0;padding: 0.2em 0.3em;box-sizing: border-box;text-align: center;}div.sk-toggleable__content {max-height: 0;max-width: 0;overflow: hidden;text-align: left;background-color: #f0f8ff;}div.sk-toggleable__content pre {margin: 0.2em;color: black;border-radius: 0.25em;background-color: #f0f8ff;}input.sk-toggleable__control:checked~div.sk-toggleable__content {max-height: 200px;max-width: 100%;overflow: auto;}div.sk-estimator input.sk-toggleable__control:checked~label.sk-toggleable__label {background-color: #d4ebff;}div.sk-label input.sk-toggleable__control:checked~label.sk-toggleable__label {background-color: #d4ebff;}input.sk-hidden--visually {border: 0;clip: rect(1px 1px 1px 1px);clip: rect(1px, 1px, 1px, 1px);height: 1px;margin: -1px;overflow: hidden;padding: 0;position: absolute;width: 1px;}div.sk-estimator {font-family: monospace;background-color: #f0f8ff;margin: 0.25em 0.25em;border: 1px dotted black;border-radius: 0.25em;box-sizing: border-box;}div.sk-estimator:hover {background-color: #d4ebff;}div.sk-parallel-item::after {content: \"\";width: 100%;border-bottom: 1px solid gray;flex-grow: 1;}div.sk-label:hover label.sk-toggleable__label {background-color: #d4ebff;}div.sk-serial::before {content: \"\";position: absolute;border-left: 1px solid gray;box-sizing: border-box;top: 2em;bottom: 0;left: 50%;}div.sk-serial {display: flex;flex-direction: column;align-items: center;background-color: white;}div.sk-item {z-index: 1;}div.sk-parallel {display: flex;align-items: stretch;justify-content: center;background-color: white;}div.sk-parallel-item {display: flex;flex-direction: column;position: relative;background-color: white;}div.sk-parallel-item:first-child::after {align-self: flex-end;width: 50%;}div.sk-parallel-item:last-child::after {align-self: flex-start;width: 50%;}div.sk-parallel-item:only-child::after {width: 0;}div.sk-dashed-wrapped {border: 1px dashed gray;margin: 0.2em;box-sizing: border-box;padding-bottom: 0.1em;background-color: white;position: relative;}div.sk-label label {font-family: monospace;font-weight: bold;background-color: white;display: inline-block;line-height: 1.2em;}div.sk-label-container {position: relative;z-index: 2;text-align: center;}div.sk-container {display: inline-block;position: relative;}</style><div class=\"sk-top-container\"><div class=\"sk-container\"><div class=\"sk-item\"><div class=\"sk-estimator sk-toggleable\"><input class=\"sk-toggleable__control sk-hidden--visually\" id=\"990a2fc4-8004-4a9d-b9fe-e54312349ace\" type=\"checkbox\" checked><label class=\"sk-toggleable__label\" for=\"990a2fc4-8004-4a9d-b9fe-e54312349ace\">GradientBoostingRegressor</label><div class=\"sk-toggleable__content\"><pre>GradientBoostingRegressor(max_features=1, min_samples_leaf=5,\n",
       "                          min_samples_split=50, n_estimators=1000)</pre></div></div></div></div></div>"
      ],
      "text/plain": [
       "GradientBoostingRegressor(max_features=1, min_samples_leaf=5,\n",
       "                          min_samples_split=50, n_estimators=1000)"
      ]
     },
     "execution_count": 83,
     "metadata": {},
     "output_type": "execute_result"
    }
   ],
   "source": [
    "best_grid_CO2_emissions_avec_ENERGYSTARScore"
   ]
  },
  {
   "cell_type": "code",
   "execution_count": 84,
   "id": "5f7b173d",
   "metadata": {},
   "outputs": [
    {
     "data": {
      "text/plain": [
       "{'max_features': 1,\n",
       " 'min_samples_leaf': 5,\n",
       " 'min_samples_split': 50,\n",
       " 'n_estimators': 1000}"
      ]
     },
     "execution_count": 84,
     "metadata": {},
     "output_type": "execute_result"
    }
   ],
   "source": [
    "grid_search.best_params_"
   ]
  },
  {
   "cell_type": "markdown",
   "id": "4b3d3aff",
   "metadata": {},
   "source": [
    "### 3.3. Validation du modèle de prédiction d'émissions de CO2 (sans ENERGYSTARScore) sur le jeu de test"
   ]
  },
  {
   "cell_type": "code",
   "execution_count": 85,
   "id": "6c4191fe",
   "metadata": {},
   "outputs": [],
   "source": [
    "final_model_CO2_emissions_avec_ENERGYSTARScore = grid_search.best_estimator_"
   ]
  },
  {
   "cell_type": "code",
   "execution_count": 86,
   "id": "8305f9f9",
   "metadata": {},
   "outputs": [],
   "source": [
    "final_predictions_emissions_avec_ENERGYSTARScore = final_model_CO2_emissions_avec_ENERGYSTARScore.predict(X_test_CO2_avec_ENERGYSTARScore)"
   ]
  },
  {
   "cell_type": "code",
   "execution_count": 87,
   "id": "1b9ef333",
   "metadata": {},
   "outputs": [
    {
     "name": "stdout",
     "output_type": "stream",
     "text": [
      "RMSE:  237.035930119501\n",
      "RMSE/mean:  1.2933743815176415\n",
      "RMSE/median:  4.401985795431561\n",
      "R²:  0.74895\n"
     ]
    }
   ],
   "source": [
    "model_performance_CO2_emissions(np.array(y_test_CO2_avec_ENERGYSTARScore), final_predictions_emissions_avec_ENERGYSTARScore)"
   ]
  },
  {
   "cell_type": "code",
   "execution_count": 88,
   "id": "5371a9e1",
   "metadata": {},
   "outputs": [
    {
     "data": {
      "image/png": "[encoded data removed]",
      "text/plain": [
       "<Figure size 576x396 with 2 Axes>"
      ]
     },
     "metadata": {},
     "output_type": "display_data"
    }
   ],
   "source": [
    "visualizer = ResidualsPlot(final_model_CO2_emissions_avec_ENERGYSTARScore)\n",
    "visualizer.fit(np.array(X_train_CO2_avec_ENERGYSTARScore), np.array(y_train_CO2_avec_ENERGYSTARScore).reshape(y_train_CO2_avec_ENERGYSTARScore.shape[0],))\n",
    "visualizer.score(np.array(X_test_CO2_avec_ENERGYSTARScore), np.array(y_test_CO2_avec_ENERGYSTARScore).reshape(y_test_CO2_avec_ENERGYSTARScore.shape[0],))\n",
    "visualizer.show();"
   ]
  },
  {
   "cell_type": "code",
   "execution_count": 89,
   "id": "77c7e3b9",
   "metadata": {},
   "outputs": [
    {
     "data": {
      "image/png": "[encoded data removed]",
      "text/plain": [
       "<Figure size 576x396 with 1 Axes>"
      ]
     },
     "metadata": {},
     "output_type": "display_data"
    }
   ],
   "source": [
    "visualizer = prediction_error(final_model_CO2_emissions, np.array(X_train_CO2_avec_ENERGYSTARScore), np.array(y_train_CO2_avec_ENERGYSTARScore), np.array(X_test_CO2_avec_ENERGYSTARScore), np.array(y_test_CO2_avec_ENERGYSTARScore));"
   ]
  }
 ],
 "metadata": {
  "kernelspec": {
   "display_name": "Python 3",
   "language": "python",
   "name": "python3"
  },
  "language_info": {
   "codemirror_mode": {
    "name": "ipython",
    "version": 3
   },
   "file_extension": ".py",
   "mimetype": "text/x-python",
   "name": "python",
   "nbconvert_exporter": "python",
   "pygments_lexer": "ipython3",
   "version": "3.8.8"
  }
 },
 "nbformat": 4,
 "nbformat_minor": 5
}
